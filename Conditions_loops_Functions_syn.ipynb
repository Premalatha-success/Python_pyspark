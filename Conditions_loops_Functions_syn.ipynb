{
 "cells": [
  {
   "cell_type": "markdown",
   "id": "34fdd899-bd0c-4279-a897-6a6c5b42c0d2",
   "metadata": {},
   "source": [
    "### Conditional Programming"
   ]
  },
  {
   "cell_type": "code",
   "execution_count": null,
   "id": "afe2c558-b156-46e5-bbbd-bb13d90e7814",
   "metadata": {},
   "outputs": [],
   "source": [
    "### To check whether the number is positive\n",
    "\n",
    "num=5\n",
    "if num>0:\n",
    "    print(\"Positive\")\n"
   ]
  },
  {
   "cell_type": "code",
   "execution_count": null,
   "id": "929bfdec-e5b8-4e85-a547-f4da2ab19e81",
   "metadata": {},
   "outputs": [],
   "source": [
    "### To check whether the number is negative\n",
    "\n",
    "num=-7\n",
    "if num<0:\n",
    "    print(\"negative\")"
   ]
  },
  {
   "cell_type": "code",
   "execution_count": null,
   "id": "4480b37a-e423-4c98-a2b6-1a7bafa4f9d5",
   "metadata": {},
   "outputs": [],
   "source": [
    "num=7\n",
    "if num<0:\n",
    "    print(\"negative\")\n",
    "\n",
    "## else is not given->no output"
   ]
  },
  {
   "cell_type": "code",
   "execution_count": null,
   "id": "88f60baf-4ca5-498c-876d-3dc377940682",
   "metadata": {},
   "outputs": [],
   "source": [
    "num=0\n",
    "if num>0:\n",
    "    print(\"positive\")"
   ]
  },
  {
   "cell_type": "code",
   "execution_count": null,
   "id": "0a60a9bb-c2dd-44db-9b34-4f1958873146",
   "metadata": {},
   "outputs": [],
   "source": [
    "num=float(input(\"Enter a number:  \"))\n",
    "\n",
    "if num > 0:\n",
    "    print(\"positive\")"
   ]
  },
  {
   "cell_type": "code",
   "execution_count": null,
   "id": "52ae127d-29e2-439c-baa9-19fef9f64796",
   "metadata": {},
   "outputs": [],
   "source": [
    "num=5\n",
    "if num>0:\n",
    "    print(\"positive\")\n",
    "else:\n",
    "    print(\"negative\")"
   ]
  },
  {
   "cell_type": "code",
   "execution_count": null,
   "id": "b4c2f43c-daf3-49a0-b63a-4b2bda48b877",
   "metadata": {},
   "outputs": [],
   "source": [
    "num=-5\n",
    "if num>0:\n",
    "    print(\"positive\")\n",
    "else:\n",
    "    print(\"negative\")"
   ]
  },
  {
   "cell_type": "code",
   "execution_count": null,
   "id": "56a066e1-d8b1-4529-87da-a1066ee8915d",
   "metadata": {},
   "outputs": [],
   "source": [
    "num=0\n",
    "if num>0:\n",
    "    print(\"positive\")\n",
    "else:\n",
    "    print(\"negative\")\n",
    "\n",
    "## add another condition"
   ]
  },
  {
   "cell_type": "code",
   "execution_count": null,
   "id": "5ce528a6-598b-4d4c-a11c-6fbefc87285a",
   "metadata": {},
   "outputs": [],
   "source": [
    "num=0\n",
    "if num>0:\n",
    "    print(\"positive\")\n",
    "elif num==0:\n",
    "    print(\"zero\")\n",
    "else:\n",
    "    print(\"negative\")"
   ]
  },
  {
   "cell_type": "code",
   "execution_count": null,
   "id": "bb7d49be-773b-454b-acc4-20713686e888",
   "metadata": {},
   "outputs": [],
   "source": [
    "num=-5000000\n",
    "if num>0:\n",
    "    print(\"positive\")\n",
    "elif num==0:\n",
    "    print(\"zero\")\n",
    "else:\n",
    "    print(\"negative\")"
   ]
  },
  {
   "cell_type": "code",
   "execution_count": null,
   "id": "537a5085-8fce-4c54-bf2c-432de54f63bb",
   "metadata": {},
   "outputs": [],
   "source": [
    "### 1) age is in the range of 18 to 60 (18,60 are inclusive)->adult\n",
    "### 2) if age is less than 18 then young,and  18-60 adult\n",
    "### 3) if age is less than 18 then young,  18-60 adult and above 60 senior citizen"
   ]
  },
  {
   "cell_type": "code",
   "execution_count": null,
   "id": "6f82a21d-9eba-4182-8130-f210a9fa94f0",
   "metadata": {},
   "outputs": [],
   "source": [
    "age=50\n",
    "if age>= 18 and age <=60 :\n",
    "    print(\"Adult\")"
   ]
  },
  {
   "cell_type": "code",
   "execution_count": null,
   "id": "fedb170d-9a17-4f2d-ac2d-10b1c90a6c21",
   "metadata": {},
   "outputs": [],
   "source": [
    "\n",
    "num=6\n",
    "if num >18 and num<60:\n",
    "    print(\"adult\")\n",
    "elif num>60:\n",
    "    print(\"senior citizen\")\n",
    "else:\n",
    "     print(\"child\")"
   ]
  },
  {
   "cell_type": "code",
   "execution_count": null,
   "id": "d739435d-f1ed-4715-92c5-fc178f8af56f",
   "metadata": {},
   "outputs": [],
   "source": [
    "### Write a program:entry fee less than age 5(incl) is free and above 60 also free ,6-25(25 is incl) entry fee is 20 and 26 to 60 it is 25"
   ]
  },
  {
   "cell_type": "code",
   "execution_count": null,
   "id": "ef356326-0b13-4927-8e99-ab34a6444aa1",
   "metadata": {},
   "outputs": [],
   "source": [
    "num=0.1\n",
    "if num <6:\n",
    "    print(\"Free\")\n",
    "elif num > 60:\n",
    "    print(\"Free\")\n",
    "elif num in range(6,26):\n",
    "    print(\"fee 20\")\n",
    "elif num in range(26,61):\n",
    "    print(\"fee 25\")"
   ]
  },
  {
   "cell_type": "code",
   "execution_count": null,
   "id": "111f975a-4c52-4788-ba88-baa89dc48aba",
   "metadata": {},
   "outputs": [],
   "source": [
    "### For loops\n",
    "for i in range(1,6):\n",
    "    print(i)"
   ]
  },
  {
   "cell_type": "code",
   "execution_count": null,
   "id": "ea937216-9a11-4da7-be98-8372d8513846",
   "metadata": {},
   "outputs": [],
   "source": [
    "### sum of numbers from 1 to 10\n",
    "sum=0\n",
    "\n",
    "for i in range(1,4):\n",
    "    sum+=i\n",
    "print(sum)"
   ]
  },
  {
   "cell_type": "code",
   "execution_count": null,
   "id": "311a5d9d-649d-41c8-b74b-dce1e59f2321",
   "metadata": {},
   "outputs": [],
   "source": [
    "string=\"hello\"\n",
    "for char in string:\n",
    "    print(char)"
   ]
  },
  {
   "cell_type": "code",
   "execution_count": 2,
   "id": "c40c4b7e-0a4d-434e-b8f8-5b44d4769175",
   "metadata": {},
   "outputs": [
    {
     "name": "stdout",
     "output_type": "stream",
     "text": [
      "1\n",
      "2\n",
      "3\n",
      "4\n",
      "5\n"
     ]
    }
   ],
   "source": [
    "i=1\n",
    "\n",
    "while i<=5:\n",
    "    print(i)\n",
    "    i+=1"
   ]
  },
  {
   "cell_type": "code",
   "execution_count": 1,
   "id": "3a832667-3fb2-4c9a-b45f-0e4c61a6889a",
   "metadata": {},
   "outputs": [
    {
     "name": "stdout",
     "output_type": "stream",
     "text": [
      "55\n"
     ]
    }
   ],
   "source": [
    "sum=0\n",
    "i=1\n",
    "while i <=10:\n",
    "    sum+=i\n",
    "    i+=1\n",
    "print(sum)"
   ]
  },
  {
   "cell_type": "code",
   "execution_count": 4,
   "id": "1285e270-4b15-4f8d-b4b5-389011ac5da0",
   "metadata": {},
   "outputs": [
    {
     "name": "stdout",
     "output_type": "stream",
     "text": [
      "5\n",
      "4\n",
      "3\n",
      "2\n",
      "1\n"
     ]
    }
   ],
   "source": [
    "count=5\n",
    "\n",
    "while count>0:\n",
    "    print(count)\n",
    "    count-=1"
   ]
  },
  {
   "cell_type": "code",
   "execution_count": 5,
   "id": "2851153e-487b-4424-a794-266bd1fec82d",
   "metadata": {},
   "outputs": [
    {
     "name": "stdout",
     "output_type": "stream",
     "text": [
      "hello\n",
      "hello\n",
      "hello\n"
     ]
    }
   ],
   "source": [
    "string=\"hello\"\n",
    "count=0\n",
    "\n",
    "while count<3:\n",
    "    print(string)\n",
    "    count+=1"
   ]
  },
  {
   "cell_type": "code",
   "execution_count": 6,
   "id": "8da1a560-94db-4501-b5cd-ebef9e4bd6a5",
   "metadata": {},
   "outputs": [
    {
     "name": "stdout",
     "output_type": "stream",
     "text": [
      "hello\n",
      "hello\n",
      "hello\n"
     ]
    }
   ],
   "source": [
    "string='hello'\n",
    "for i in range(1,4):\n",
    "    print(string)"
   ]
  },
  {
   "cell_type": "code",
   "execution_count": 7,
   "id": "21f3f91b-148c-4180-ade3-d54ed0da70da",
   "metadata": {},
   "outputs": [
    {
     "name": "stdout",
     "output_type": "stream",
     "text": [
      "hello\n",
      "hello\n",
      "hello\n"
     ]
    }
   ],
   "source": [
    "string='hello'\n",
    "count=0\n",
    "\n",
    "while count<3:\n",
    "    print(string)\n",
    "    count+=1"
   ]
  },
  {
   "cell_type": "code",
   "execution_count": 9,
   "id": "7de95ebd-928d-46ca-a18d-2fbac16be16a",
   "metadata": {},
   "outputs": [
    {
     "name": "stdout",
     "output_type": "stream",
     "text": [
      "100\n"
     ]
    }
   ],
   "source": [
    "### Functions\n",
    "\n",
    "def square(num):\n",
    "    return num*num\n",
    "\n",
    "result=square(10)\n",
    "print(result)"
   ]
  },
  {
   "cell_type": "code",
   "execution_count": 10,
   "id": "3921afa0-d6a0-4ebc-b614-a16caea6fe59",
   "metadata": {},
   "outputs": [
    {
     "name": "stdout",
     "output_type": "stream",
     "text": [
      "50\n"
     ]
    }
   ],
   "source": [
    "def calculate_area(length,breadth):\n",
    "    return length * breadth\n",
    "\n",
    "length=10\n",
    "breadth=5\n",
    "\n",
    "area=calculate_area(length,breadth)\n",
    "print(area)"
   ]
  },
  {
   "cell_type": "code",
   "execution_count": 13,
   "id": "7810c494-8d04-461e-8552-2830a60d50d1",
   "metadata": {},
   "outputs": [
    {
     "name": "stdout",
     "output_type": "stream",
     "text": [
      "odd\n"
     ]
    }
   ],
   "source": [
    "### Check whether the number is even\n",
    "\n",
    "def is_even(num):\n",
    "    return num %2==0\n",
    "\n",
    "number=15\n",
    "\n",
    "if is_even(number):\n",
    "    print(\"even\")\n",
    "else:\n",
    "    print(\"odd\")\n"
   ]
  },
  {
   "cell_type": "code",
   "execution_count": 15,
   "id": "8c86cc6f-c752-4bb7-9aad-9fba0386a23c",
   "metadata": {},
   "outputs": [
    {
     "name": "stdout",
     "output_type": "stream",
     "text": [
      "64\n"
     ]
    }
   ],
   "source": [
    "number=8\n",
    "result=(lambda num:num*num)(number)\n",
    "print(result)"
   ]
  },
  {
   "cell_type": "code",
   "execution_count": 17,
   "id": "f3fe65dc-57ee-4e95-98c6-9eeb34f35e53",
   "metadata": {},
   "outputs": [
    {
     "name": "stdout",
     "output_type": "stream",
     "text": [
      "odd\n"
     ]
    }
   ],
   "source": [
    "number=11\n",
    "is_even=lambda num:num %2==0\n",
    "if is_even(number):\n",
    "    print(\"even\")\n",
    "else:\n",
    "    print(\"odd\")\n"
   ]
  },
  {
   "cell_type": "code",
   "execution_count": 18,
   "id": "e79183ee-59ca-47b9-9a43-5630d16b4f8f",
   "metadata": {},
   "outputs": [
    {
     "name": "stdout",
     "output_type": "stream",
     "text": [
      "30\n"
     ]
    }
   ],
   "source": [
    "### area of rectangle using lambda\n",
    "len=5\n",
    "bre=6\n",
    "area=(lambda length,breadth:length*breadth)(len,bre)\n",
    "print(area)"
   ]
  },
  {
   "cell_type": "code",
   "execution_count": 21,
   "id": "e75928eb-66dc-46e1-b827-2a633287dbca",
   "metadata": {},
   "outputs": [
    {
     "name": "stdout",
     "output_type": "stream",
     "text": [
      "[2, 4, 6, 8, 10, 12, 14]\n"
     ]
    }
   ],
   "source": [
    "### map\n",
    "numbers=[1,2,3,4,5,6,7]\n",
    "doubled=map(lambda x:x*2,numbers)\n",
    "print(list(doubled))"
   ]
  },
  {
   "cell_type": "code",
   "execution_count": 22,
   "id": "f262daaf-045e-4757-97ab-9fb50c9a4275",
   "metadata": {},
   "outputs": [
    {
     "name": "stdout",
     "output_type": "stream",
     "text": [
      "[2, 4, 6]\n"
     ]
    }
   ],
   "source": [
    "numbers=[1,2,3,4,5,6,7]\n",
    "even=filter(lambda x:x%2==0,numbers)\n",
    "print(list(even))"
   ]
  },
  {
   "cell_type": "code",
   "execution_count": 23,
   "id": "e0d1a484-4921-4d20-ae39-c6f68c815675",
   "metadata": {},
   "outputs": [
    {
     "data": {
      "text/plain": [
       "28"
      ]
     },
     "execution_count": 23,
     "metadata": {},
     "output_type": "execute_result"
    }
   ],
   "source": [
    "### functools\n",
    "\n",
    "from functools import reduce\n",
    "sum=reduce(lambda x,y:x+y,numbers)\n",
    "sum"
   ]
  },
  {
   "cell_type": "code",
   "execution_count": null,
   "id": "4f1bdd70-be39-48e8-8076-08827f0ced17",
   "metadata": {},
   "outputs": [],
   "source": [
    "## use map to convert celsius to fahrenheit->(9/5 c +32)\n",
    "### find the product of numbers in a list using lambda"
   ]
  },
  {
   "cell_type": "code",
   "execution_count": null,
   "id": "55469b08-2412-4575-ad91-3e4b1e51d5c7",
   "metadata": {},
   "outputs": [],
   "source": [
    "### Create a string variable named sentence ,convert into lowercase\n",
    "### uppercase\n",
    "### Split into words and store the in a list"
   ]
  }
 ],
 "metadata": {
  "kernelspec": {
   "display_name": "Python 3 (ipykernel)",
   "language": "python",
   "name": "python3"
  },
  "language_info": {
   "codemirror_mode": {
    "name": "ipython",
    "version": 3
   },
   "file_extension": ".py",
   "mimetype": "text/x-python",
   "name": "python",
   "nbconvert_exporter": "python",
   "pygments_lexer": "ipython3",
   "version": "3.11.7"
  },
  "widgets": {
   "application/vnd.jupyter.widget-state+json": {
    "state": {},
    "version_major": 2,
    "version_minor": 0
   }
  }
 },
 "nbformat": 4,
 "nbformat_minor": 5
}
