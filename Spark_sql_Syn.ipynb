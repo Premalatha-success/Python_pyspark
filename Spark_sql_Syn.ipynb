{
  "nbformat": 4,
  "nbformat_minor": 0,
  "metadata": {
    "colab": {
      "provenance": []
    },
    "kernelspec": {
      "name": "python3",
      "display_name": "Python 3"
    },
    "language_info": {
      "name": "python"
    }
  },
  "cells": [
    {
      "cell_type": "code",
      "execution_count": 2,
      "metadata": {
        "id": "wndnqvdfk3xh"
      },
      "outputs": [],
      "source": [
        "#pip install pyspark"
      ]
    },
    {
      "cell_type": "code",
      "source": [
        "from pyspark.sql import SparkSession\n",
        "spark=SparkSession.builder.appName(\"sql operations\").getOrCreate()"
      ],
      "metadata": {
        "id": "q2q0anBumCxA"
      },
      "execution_count": 10,
      "outputs": []
    },
    {
      "cell_type": "code",
      "source": [
        "df=spark.read.json(\"/content/nyt2.json\")"
      ],
      "metadata": {
        "id": "-8RNyilxmSx5"
      },
      "execution_count": 11,
      "outputs": []
    },
    {
      "cell_type": "code",
      "source": [
        "df.show()"
      ],
      "metadata": {
        "colab": {
          "base_uri": "https://localhost:8080/"
        },
        "id": "ekcTclg3mdSJ",
        "outputId": "72d31c8c-33e3-4674-a6ab-995c98f6866f"
      },
      "execution_count": 12,
      "outputs": [
        {
          "output_type": "stream",
          "name": "stdout",
          "text": [
            "+--------------------+--------------------+--------------------+-----------------+--------------------+-------------+-----------------+--------------------+----+--------------+--------------------+-------------+\n",
            "|                 _id|  amazon_product_url|              author| bestsellers_date|         description|        price|   published_date|           publisher|rank|rank_last_week|               title|weeks_on_list|\n",
            "+--------------------+--------------------+--------------------+-----------------+--------------------+-------------+-----------------+--------------------+----+--------------+--------------------+-------------+\n",
            "|{5b4aa4ead3089013...|http://www.amazon...|       Dean R Koontz|{{1211587200000}}|Odd Thomas, who c...|   {NULL, 27}|{{1212883200000}}|              Bantam| {1}|           {0}|           ODD HOURS|          {1}|\n",
            "|{5b4aa4ead3089013...|http://www.amazon...|     Stephenie Meyer|{{1211587200000}}|Aliens have taken...|{25.99, NULL}|{{1212883200000}}|       Little, Brown| {2}|           {1}|            THE HOST|          {3}|\n",
            "|{5b4aa4ead3089013...|http://www.amazon...|        Emily Giffin|{{1211587200000}}|A woman's happy m...|{24.95, NULL}|{{1212883200000}}|        St. Martin's| {3}|           {2}|LOVE THE ONE YOU'...|          {2}|\n",
            "|{5b4aa4ead3089013...|http://www.amazon...|   Patricia Cornwell|{{1211587200000}}|A Massachusetts s...|{22.95, NULL}|{{1212883200000}}|              Putnam| {4}|           {0}|           THE FRONT|          {1}|\n",
            "|{5b4aa4ead3089013...|http://www.amazon...|     Chuck Palahniuk|{{1211587200000}}|An aging porn que...|{24.95, NULL}|{{1212883200000}}|           Doubleday| {5}|           {0}|               SNUFF|          {1}|\n",
            "|{5b4aa4ead3089013...|http://www.amazon...|James Patterson a...|{{1211587200000}}|A woman finds an ...|{24.99, NULL}|{{1212883200000}}|       Little, Brown| {6}|           {3}|SUNDAYS AT TIFFANY’S|          {4}|\n",
            "|{5b4aa4ead3089013...|http://www.amazon...|       John Sandford|{{1211587200000}}|The Minneapolis d...|{26.95, NULL}|{{1212883200000}}|              Putnam| {7}|           {4}|        PHANTOM PREY|          {3}|\n",
            "|{5b4aa4ead3089013...|http://www.amazon...|       Jimmy Buffett|{{1211587200000}}|A Southern family...|{21.99, NULL}|{{1212883200000}}|       Little, Brown| {8}|           {6}|          SWINE NOT?|          {2}|\n",
            "|{5b4aa4ead3089013...|http://www.amazon...|    Elizabeth George|{{1211587200000}}|In Cornwall, tryi...|{27.95, NULL}|{{1212883200000}}|              Harper| {9}|           {8}|     CARELESS IN RED|          {3}|\n",
            "|{5b4aa4ead3089013...|http://www.amazon...|      David Baldacci|{{1211587200000}}|An intelligence a...|{26.99, NULL}|{{1212883200000}}|       Grand Central|{10}|           {7}|     THE WHOLE TRUTH|          {5}|\n",
            "|{5b4aa4ead3089013...|http://www.amazon...|        Troy Denning|{{1211587200000}}|The New Jedi orde...|   {NULL, 27}|{{1212883200000}}|  Del Rey/Ballantine|{11}|           {5}|          INVINCIBLE|          {2}|\n",
            "|{5b4aa4ead3089013...|http://www.amazon...|          James Frey|{{1211587200000}}|A novel, set in L...|{26.95, NULL}|{{1212883200000}}|              Harper|{12}|           {9}|BRIGHT SHINY MORNING|          {2}|\n",
            "|{5b4aa4ead3089013...|http://www.amazon...|         Garth Stein|{{1211587200000}}|A Lab-terrier mix...|{23.95, NULL}|{{1212883200000}}|              Harper|{13}|           {0}|THE ART OF RACING...|          {1}|\n",
            "|{5b4aa4ead3089013...|http://www.amazon...|     Debbie Macomber|{{1211587200000}}|A widow who owns ...|{24.95, NULL}|{{1212883200000}}|                Mira|{14}|          {10}|       TWENTY WISHES|          {4}|\n",
            "|{5b4aa4ead3089013...|http://www.amazon...|         Jeff Shaara|{{1211587200000}}|A novel about the...|   {NULL, 28}|{{1212883200000}}|          Ballantine|{15}|          {11}|      THE STEEL WAVE|          {2}|\n",
            "|{5b4aa4ead3089013...|http://www.amazon...|    Phillip Margolin|{{1211587200000}}|                    |    {NULL, 0}|{{1212883200000}}|HarperCollins Pub...|{16}|           {0}| EXECUTIVE PRIVILEGE|          {0}|\n",
            "|{5b4aa4ead3089013...|http://www.amazon...|       Jhumpa Lahiri|{{1211587200000}}|Stories of the an...|    {NULL, 0}|{{1212883200000}}|               Knopf|{17}|           {0}|  UNACCUSTOMED EARTH|          {0}|\n",
            "|{5b4aa4ead3089013...|http://www.amazon...|      Joseph O'Neill|{{1211587200000}}|A Dutchman desert...|    {NULL, 0}|{{1212883200000}}|Knopf Publishing ...|{18}|           {0}|          NETHERLAND|          {0}|\n",
            "|{5b4aa4ead3089013...|http://www.amazon...|        John Grisham|{{1211587200000}}|Political and leg...|    {NULL, 0}|{{1212883200000}}|Doubleday Publishing|{19}|           {0}|          THE APPEAL|          {0}|\n",
            "|{5b4aa4ead3089013...|http://www.amazon...|       James Rollins|{{1211587200000}}|                    |    {NULL, 0}|{{1212883200000}}|Random House Publ...|{20}|           {0}|INDIANA JONES AND...|          {0}|\n",
            "+--------------------+--------------------+--------------------+-----------------+--------------------+-------------+-----------------+--------------------+----+--------------+--------------------+-------------+\n",
            "only showing top 20 rows\n",
            "\n"
          ]
        }
      ]
    },
    {
      "cell_type": "code",
      "source": [
        "df.dtypes"
      ],
      "metadata": {
        "colab": {
          "base_uri": "https://localhost:8080/"
        },
        "id": "1eTaSoqXme80",
        "outputId": "005ba653-2c5b-4296-acc1-edcb41e4b43c"
      },
      "execution_count": 13,
      "outputs": [
        {
          "output_type": "execute_result",
          "data": {
            "text/plain": [
              "[('_id', 'struct<$oid:string>'),\n",
              " ('amazon_product_url', 'string'),\n",
              " ('author', 'string'),\n",
              " ('bestsellers_date', 'struct<$date:struct<$numberLong:string>>'),\n",
              " ('description', 'string'),\n",
              " ('price', 'struct<$numberDouble:string,$numberInt:string>'),\n",
              " ('published_date', 'struct<$date:struct<$numberLong:string>>'),\n",
              " ('publisher', 'string'),\n",
              " ('rank', 'struct<$numberInt:string>'),\n",
              " ('rank_last_week', 'struct<$numberInt:string>'),\n",
              " ('title', 'string'),\n",
              " ('weeks_on_list', 'struct<$numberInt:string>')]"
            ]
          },
          "metadata": {},
          "execution_count": 13
        }
      ]
    },
    {
      "cell_type": "code",
      "source": [
        "df.count()"
      ],
      "metadata": {
        "colab": {
          "base_uri": "https://localhost:8080/"
        },
        "id": "aYhBGRyMm0JH",
        "outputId": "b49dbb00-9412-42ba-f39d-4b41f58e4951"
      },
      "execution_count": 14,
      "outputs": [
        {
          "output_type": "execute_result",
          "data": {
            "text/plain": [
              "10195"
            ]
          },
          "metadata": {},
          "execution_count": 14
        }
      ]
    },
    {
      "cell_type": "code",
      "source": [
        "df.head()"
      ],
      "metadata": {
        "colab": {
          "base_uri": "https://localhost:8080/"
        },
        "id": "sWQLg7HcnURl",
        "outputId": "20feccea-011e-404a-cbe2-54b97c7da7bb"
      },
      "execution_count": 15,
      "outputs": [
        {
          "output_type": "execute_result",
          "data": {
            "text/plain": [
              "Row(_id=Row($oid='5b4aa4ead3089013507db18b'), amazon_product_url='http://www.amazon.com/Odd-Hours-Dean-Koontz/dp/0553807056?tag=NYTBS-20', author='Dean R Koontz', bestsellers_date=Row($date=Row($numberLong='1211587200000')), description='Odd Thomas, who can communicate with the dead, confronts evil forces in a California coastal town.', price=Row($numberDouble=None, $numberInt='27'), published_date=Row($date=Row($numberLong='1212883200000')), publisher='Bantam', rank=Row($numberInt='1'), rank_last_week=Row($numberInt='0'), title='ODD HOURS', weeks_on_list=Row($numberInt='1'))"
            ]
          },
          "metadata": {},
          "execution_count": 15
        }
      ]
    },
    {
      "cell_type": "code",
      "source": [
        "df.columns"
      ],
      "metadata": {
        "colab": {
          "base_uri": "https://localhost:8080/"
        },
        "id": "qQE2h1h2nWVe",
        "outputId": "5ff3ae94-9c21-4112-ea30-ab9983ef3d6b"
      },
      "execution_count": 16,
      "outputs": [
        {
          "output_type": "execute_result",
          "data": {
            "text/plain": [
              "['_id',\n",
              " 'amazon_product_url',\n",
              " 'author',\n",
              " 'bestsellers_date',\n",
              " 'description',\n",
              " 'price',\n",
              " 'published_date',\n",
              " 'publisher',\n",
              " 'rank',\n",
              " 'rank_last_week',\n",
              " 'title',\n",
              " 'weeks_on_list']"
            ]
          },
          "metadata": {},
          "execution_count": 16
        }
      ]
    },
    {
      "cell_type": "code",
      "source": [
        "df.describe().show()"
      ],
      "metadata": {
        "colab": {
          "base_uri": "https://localhost:8080/"
        },
        "id": "VB5rNL8UnZ51",
        "outputId": "4e092dad-20c4-4270-e4d7-058fc2da41c7"
      },
      "execution_count": 17,
      "outputs": [
        {
          "output_type": "stream",
          "name": "stdout",
          "text": [
            "+-------+--------------------+---------------+--------------------+---------+------------------+\n",
            "|summary|  amazon_product_url|         author|         description|publisher|             title|\n",
            "+-------+--------------------+---------------+--------------------+---------+------------------+\n",
            "|  count|               10195|          10195|               10195|    10195|             10195|\n",
            "|   mean|                NULL|           NULL|                NULL|     NULL|1877.7142857142858|\n",
            "| stddev|                NULL|           NULL|                NULL|     NULL| 370.9760613506458|\n",
            "|    min|http://www.amazon...|        AJ Finn|                    |      ACE|  10TH ANNIVERSARY|\n",
            "|    max|https://www.amazo...|various authors|’Tis for the Rebe...|allantine|               ZOO|\n",
            "+-------+--------------------+---------------+--------------------+---------+------------------+\n",
            "\n"
          ]
        }
      ]
    },
    {
      "cell_type": "code",
      "source": [
        "df.distinct().count()"
      ],
      "metadata": {
        "colab": {
          "base_uri": "https://localhost:8080/"
        },
        "id": "SzWmR2YMnesq",
        "outputId": "609d3e89-3880-461f-a883-5e43e846784b"
      },
      "execution_count": 18,
      "outputs": [
        {
          "output_type": "execute_result",
          "data": {
            "text/plain": [
              "10195"
            ]
          },
          "metadata": {},
          "execution_count": 18
        }
      ]
    },
    {
      "cell_type": "code",
      "source": [
        "df.explain(extended=True)"
      ],
      "metadata": {
        "colab": {
          "base_uri": "https://localhost:8080/"
        },
        "id": "AigHMfDEn2Gv",
        "outputId": "209993d0-489e-4ea9-f35e-c9b017f04b89"
      },
      "execution_count": 20,
      "outputs": [
        {
          "output_type": "stream",
          "name": "stdout",
          "text": [
            "== Parsed Logical Plan ==\n",
            "Relation [_id#102,amazon_product_url#103,author#104,bestsellers_date#105,description#106,price#107,published_date#108,publisher#109,rank#110,rank_last_week#111,title#112,weeks_on_list#113] json\n",
            "\n",
            "== Analyzed Logical Plan ==\n",
            "_id: struct<$oid:string>, amazon_product_url: string, author: string, bestsellers_date: struct<$date:struct<$numberLong:string>>, description: string, price: struct<$numberDouble:string,$numberInt:string>, published_date: struct<$date:struct<$numberLong:string>>, publisher: string, rank: struct<$numberInt:string>, rank_last_week: struct<$numberInt:string>, title: string, weeks_on_list: struct<$numberInt:string>\n",
            "Relation [_id#102,amazon_product_url#103,author#104,bestsellers_date#105,description#106,price#107,published_date#108,publisher#109,rank#110,rank_last_week#111,title#112,weeks_on_list#113] json\n",
            "\n",
            "== Optimized Logical Plan ==\n",
            "Relation [_id#102,amazon_product_url#103,author#104,bestsellers_date#105,description#106,price#107,published_date#108,publisher#109,rank#110,rank_last_week#111,title#112,weeks_on_list#113] json\n",
            "\n",
            "== Physical Plan ==\n",
            "FileScan json [_id#102,amazon_product_url#103,author#104,bestsellers_date#105,description#106,price#107,published_date#108,publisher#109,rank#110,rank_last_week#111,title#112,weeks_on_list#113] Batched: false, DataFilters: [], Format: JSON, Location: InMemoryFileIndex(1 paths)[file:/content/nyt2.json], PartitionFilters: [], PushedFilters: [], ReadSchema: struct<_id:struct<$oid:string>,amazon_product_url:string,author:string,bestsellers_date:struct<$d...\n",
            "\n"
          ]
        }
      ]
    },
    {
      "cell_type": "code",
      "source": [
        "### Top 10 author names\n",
        "df.select(\"author\").show(10)"
      ],
      "metadata": {
        "colab": {
          "base_uri": "https://localhost:8080/"
        },
        "id": "G_953QjEoPf2",
        "outputId": "089591c4-ec86-4432-ef89-6f37542a0b3c"
      },
      "execution_count": 23,
      "outputs": [
        {
          "output_type": "stream",
          "name": "stdout",
          "text": [
            "+--------------------+\n",
            "|              author|\n",
            "+--------------------+\n",
            "|       Dean R Koontz|\n",
            "|     Stephenie Meyer|\n",
            "|        Emily Giffin|\n",
            "|   Patricia Cornwell|\n",
            "|     Chuck Palahniuk|\n",
            "|James Patterson a...|\n",
            "|       John Sandford|\n",
            "|       Jimmy Buffett|\n",
            "|    Elizabeth George|\n",
            "|      David Baldacci|\n",
            "+--------------------+\n",
            "only showing top 10 rows\n",
            "\n"
          ]
        }
      ]
    },
    {
      "cell_type": "code",
      "source": [
        "df.select(\"author\",\"title\",\"rank\",\"price\").show(10)"
      ],
      "metadata": {
        "colab": {
          "base_uri": "https://localhost:8080/"
        },
        "id": "_v7P0CJZpCwJ",
        "outputId": "9a231bf8-e982-4ad3-ebe1-37ee80dfea93"
      },
      "execution_count": 24,
      "outputs": [
        {
          "output_type": "stream",
          "name": "stdout",
          "text": [
            "+--------------------+--------------------+----+-------------+\n",
            "|              author|               title|rank|        price|\n",
            "+--------------------+--------------------+----+-------------+\n",
            "|       Dean R Koontz|           ODD HOURS| {1}|   {NULL, 27}|\n",
            "|     Stephenie Meyer|            THE HOST| {2}|{25.99, NULL}|\n",
            "|        Emily Giffin|LOVE THE ONE YOU'...| {3}|{24.95, NULL}|\n",
            "|   Patricia Cornwell|           THE FRONT| {4}|{22.95, NULL}|\n",
            "|     Chuck Palahniuk|               SNUFF| {5}|{24.95, NULL}|\n",
            "|James Patterson a...|SUNDAYS AT TIFFANY’S| {6}|{24.99, NULL}|\n",
            "|       John Sandford|        PHANTOM PREY| {7}|{26.95, NULL}|\n",
            "|       Jimmy Buffett|          SWINE NOT?| {8}|{21.99, NULL}|\n",
            "|    Elizabeth George|     CARELESS IN RED| {9}|{27.95, NULL}|\n",
            "|      David Baldacci|     THE WHOLE TRUTH|{10}|{26.99, NULL}|\n",
            "+--------------------+--------------------+----+-------------+\n",
            "only showing top 10 rows\n",
            "\n"
          ]
        }
      ]
    },
    {
      "cell_type": "code",
      "source": [
        "from pyspark.sql.functions import *"
      ],
      "metadata": {
        "id": "4Rtz3KTDqH1R"
      },
      "execution_count": 26,
      "outputs": []
    },
    {
      "cell_type": "code",
      "source": [
        "### when\n",
        "df.select(\"title\",when(df.title!=\"ODD HOURS\",1).otherwise(0)).show(10)"
      ],
      "metadata": {
        "colab": {
          "base_uri": "https://localhost:8080/"
        },
        "id": "8npnut9upWvx",
        "outputId": "0d8fa664-243a-4b09-8750-753784c24975"
      },
      "execution_count": 28,
      "outputs": [
        {
          "output_type": "stream",
          "name": "stdout",
          "text": [
            "+--------------------+-----------------------------------------------------+\n",
            "|               title|CASE WHEN (NOT (title = ODD HOURS)) THEN 1 ELSE 0 END|\n",
            "+--------------------+-----------------------------------------------------+\n",
            "|           ODD HOURS|                                                    0|\n",
            "|            THE HOST|                                                    1|\n",
            "|LOVE THE ONE YOU'...|                                                    1|\n",
            "|           THE FRONT|                                                    1|\n",
            "|               SNUFF|                                                    1|\n",
            "|SUNDAYS AT TIFFANY’S|                                                    1|\n",
            "|        PHANTOM PREY|                                                    1|\n",
            "|          SWINE NOT?|                                                    1|\n",
            "|     CARELESS IN RED|                                                    1|\n",
            "|     THE WHOLE TRUTH|                                                    1|\n",
            "+--------------------+-----------------------------------------------------+\n",
            "only showing top 10 rows\n",
            "\n"
          ]
        }
      ]
    },
    {
      "cell_type": "code",
      "source": [
        "## isin\n",
        "df[df.author.isin(\"Dean R Koontz\",\"Stephenie Meyer\")].show()"
      ],
      "metadata": {
        "colab": {
          "base_uri": "https://localhost:8080/"
        },
        "id": "n3K5ZprQqDIa",
        "outputId": "920eb2bb-23d6-4eba-aa84-0ab2cc7959d1"
      },
      "execution_count": 29,
      "outputs": [
        {
          "output_type": "stream",
          "name": "stdout",
          "text": [
            "+--------------------+--------------------+---------------+-----------------+--------------------+-------------+-----------------+-------------+----+--------------+---------+-------------+\n",
            "|                 _id|  amazon_product_url|         author| bestsellers_date|         description|        price|   published_date|    publisher|rank|rank_last_week|    title|weeks_on_list|\n",
            "+--------------------+--------------------+---------------+-----------------+--------------------+-------------+-----------------+-------------+----+--------------+---------+-------------+\n",
            "|{5b4aa4ead3089013...|http://www.amazon...|  Dean R Koontz|{{1211587200000}}|Odd Thomas, who c...|   {NULL, 27}|{{1212883200000}}|       Bantam| {1}|           {0}|ODD HOURS|          {1}|\n",
            "|{5b4aa4ead3089013...|http://www.amazon...|Stephenie Meyer|{{1211587200000}}|Aliens have taken...|{25.99, NULL}|{{1212883200000}}|Little, Brown| {2}|           {1}| THE HOST|          {3}|\n",
            "|{5b4aa4ead3089013...|http://www.amazon...|Stephenie Meyer|{{1212192000000}}|Aliens have taken...|{25.99, NULL}|{{1213488000000}}|Little, Brown| {2}|           {2}| THE HOST|          {4}|\n",
            "|{5b4aa4ead3089013...|http://www.amazon...|  Dean R Koontz|{{1212192000000}}|Odd Thomas, who c...|   {NULL, 27}|{{1213488000000}}|       Bantam| {3}|           {1}|ODD HOURS|          {2}|\n",
            "|{5b4aa4ead3089013...|http://www.amazon...|Stephenie Meyer|{{1212796800000}}|Aliens have taken...|{25.99, NULL}|{{1214092800000}}|Little, Brown| {2}|           {2}| THE HOST|          {5}|\n",
            "|{5b4aa4ead3089013...|http://www.amazon...|  Dean R Koontz|{{1212796800000}}|Odd Thomas, who c...|   {NULL, 27}|{{1214092800000}}|       Bantam| {7}|           {3}|ODD HOURS|          {3}|\n",
            "|{5b4aa4ead3089013...|http://www.amazon...|Stephenie Meyer|{{1213401600000}}|Aliens have taken...|{25.99, NULL}|{{1214697600000}}|Little, Brown| {3}|           {2}| THE HOST|          {6}|\n",
            "|{5b4aa4ead3089013...|http://www.amazon...|  Dean R Koontz|{{1213401600000}}|Odd Thomas, who c...|   {NULL, 27}|{{1214697600000}}|       Bantam| {8}|           {7}|ODD HOURS|          {4}|\n",
            "|{5b4aa4ead3089013...|http://www.amazon...|Stephenie Meyer|{{1214006400000}}|Aliens have taken...|{25.99, NULL}|{{1215302400000}}|Little, Brown| {3}|           {3}| THE HOST|          {7}|\n",
            "|{5b4aa4ead3089013...|http://www.amazon...|  Dean R Koontz|{{1214006400000}}|Odd Thomas, who c...|   {NULL, 27}|{{1215302400000}}|       Bantam|{12}|           {8}|ODD HOURS|          {5}|\n",
            "|{5b4aa4ead3089013...|http://www.amazon...|Stephenie Meyer|{{1214611200000}}|Aliens have taken...|{25.99, NULL}|{{1215907200000}}|Little, Brown| {5}|           {3}| THE HOST|          {8}|\n",
            "|{5b4aa4ead3089013...|http://www.amazon...|  Dean R Koontz|{{1214611200000}}|Odd Thomas, who c...|   {NULL, 27}|{{1215907200000}}|       Bantam|{14}|          {12}|ODD HOURS|          {6}|\n",
            "|{5b4aa4ead3089013...|http://www.amazon...|Stephenie Meyer|{{1215216000000}}|Aliens have taken...|{25.99, NULL}|{{1216512000000}}|Little, Brown| {6}|           {5}| THE HOST|          {9}|\n",
            "|{5b4aa4ead3089013...|http://www.amazon...|  Dean R Koontz|{{1215216000000}}|Odd Thomas, who c...|    {NULL, 0}|{{1216512000000}}|       Bantam|{20}|           {0}|ODD HOURS|          {0}|\n",
            "|{5b4aa4ead3089013...|http://www.amazon...|Stephenie Meyer|{{1215820800000}}|Aliens have taken...|{25.99, NULL}|{{1217116800000}}|Little, Brown| {7}|           {6}| THE HOST|         {10}|\n",
            "|{5b4aa4ead3089013...|http://www.amazon...|Stephenie Meyer|{{1216425600000}}|Aliens have taken...|{25.99, NULL}|{{1217721600000}}|Little, Brown| {4}|           {7}| THE HOST|         {11}|\n",
            "|{5b4aa4ead3089013...|http://www.amazon...|Stephenie Meyer|{{1217030400000}}|Aliens have taken...|{25.99, NULL}|{{1218326400000}}|Little, Brown| {3}|           {4}| THE HOST|         {12}|\n",
            "|{5b4aa4ead3089013...|http://www.amazon...|Stephenie Meyer|{{1217635200000}}|Aliens have taken...|{25.99, NULL}|{{1218931200000}}|Little, Brown| {3}|           {3}| THE HOST|         {13}|\n",
            "|{5b4aa4ead3089013...|http://www.amazon...|Stephenie Meyer|{{1218240000000}}|Aliens have taken...|{25.99, NULL}|{{1219536000000}}|Little, Brown| {5}|           {3}| THE HOST|         {14}|\n",
            "|{5b4aa4ead3089013...|http://www.amazon...|Stephenie Meyer|{{1218844800000}}|Aliens have taken...|{25.99, NULL}|{{1220140800000}}|Little, Brown| {6}|           {5}| THE HOST|         {15}|\n",
            "+--------------------+--------------------+---------------+-----------------+--------------------+-------------+-----------------+-------------+----+--------------+---------+-------------+\n",
            "only showing top 20 rows\n",
            "\n"
          ]
        }
      ]
    },
    {
      "cell_type": "code",
      "source": [
        "## like\n",
        "df.select(\"author\",\"title\",df.title.like(\"%THE%\")).show()"
      ],
      "metadata": {
        "colab": {
          "base_uri": "https://localhost:8080/"
        },
        "id": "9P7pbjOarJfG",
        "outputId": "3f78ed7b-5340-45f8-d47b-9d5b4155e7be"
      },
      "execution_count": 31,
      "outputs": [
        {
          "output_type": "stream",
          "name": "stdout",
          "text": [
            "+--------------------+--------------------+----------------+\n",
            "|              author|               title|title LIKE %THE%|\n",
            "+--------------------+--------------------+----------------+\n",
            "|       Dean R Koontz|           ODD HOURS|           false|\n",
            "|     Stephenie Meyer|            THE HOST|            true|\n",
            "|        Emily Giffin|LOVE THE ONE YOU'...|            true|\n",
            "|   Patricia Cornwell|           THE FRONT|            true|\n",
            "|     Chuck Palahniuk|               SNUFF|           false|\n",
            "|James Patterson a...|SUNDAYS AT TIFFANY’S|           false|\n",
            "|       John Sandford|        PHANTOM PREY|           false|\n",
            "|       Jimmy Buffett|          SWINE NOT?|           false|\n",
            "|    Elizabeth George|     CARELESS IN RED|           false|\n",
            "|      David Baldacci|     THE WHOLE TRUTH|            true|\n",
            "|        Troy Denning|          INVINCIBLE|           false|\n",
            "|          James Frey|BRIGHT SHINY MORNING|           false|\n",
            "|         Garth Stein|THE ART OF RACING...|            true|\n",
            "|     Debbie Macomber|       TWENTY WISHES|           false|\n",
            "|         Jeff Shaara|      THE STEEL WAVE|            true|\n",
            "|    Phillip Margolin| EXECUTIVE PRIVILEGE|           false|\n",
            "|       Jhumpa Lahiri|  UNACCUSTOMED EARTH|           false|\n",
            "|      Joseph O'Neill|          NETHERLAND|            true|\n",
            "|        John Grisham|          THE APPEAL|            true|\n",
            "|       James Rollins|INDIANA JONES AND...|            true|\n",
            "+--------------------+--------------------+----------------+\n",
            "only showing top 20 rows\n",
            "\n"
          ]
        }
      ]
    },
    {
      "cell_type": "code",
      "source": [
        "### startswith and endswith\n",
        "df.select(\"author\",\"title\",df.title.startswith(\"THE\")).show()"
      ],
      "metadata": {
        "colab": {
          "base_uri": "https://localhost:8080/"
        },
        "id": "-w1oSLeor_rr",
        "outputId": "bf31ff2d-0cb2-4696-ba74-b7f52ba7e568"
      },
      "execution_count": 32,
      "outputs": [
        {
          "output_type": "stream",
          "name": "stdout",
          "text": [
            "+--------------------+--------------------+----------------------+\n",
            "|              author|               title|startswith(title, THE)|\n",
            "+--------------------+--------------------+----------------------+\n",
            "|       Dean R Koontz|           ODD HOURS|                 false|\n",
            "|     Stephenie Meyer|            THE HOST|                  true|\n",
            "|        Emily Giffin|LOVE THE ONE YOU'...|                 false|\n",
            "|   Patricia Cornwell|           THE FRONT|                  true|\n",
            "|     Chuck Palahniuk|               SNUFF|                 false|\n",
            "|James Patterson a...|SUNDAYS AT TIFFANY’S|                 false|\n",
            "|       John Sandford|        PHANTOM PREY|                 false|\n",
            "|       Jimmy Buffett|          SWINE NOT?|                 false|\n",
            "|    Elizabeth George|     CARELESS IN RED|                 false|\n",
            "|      David Baldacci|     THE WHOLE TRUTH|                  true|\n",
            "|        Troy Denning|          INVINCIBLE|                 false|\n",
            "|          James Frey|BRIGHT SHINY MORNING|                 false|\n",
            "|         Garth Stein|THE ART OF RACING...|                  true|\n",
            "|     Debbie Macomber|       TWENTY WISHES|                 false|\n",
            "|         Jeff Shaara|      THE STEEL WAVE|                  true|\n",
            "|    Phillip Margolin| EXECUTIVE PRIVILEGE|                 false|\n",
            "|       Jhumpa Lahiri|  UNACCUSTOMED EARTH|                 false|\n",
            "|      Joseph O'Neill|          NETHERLAND|                 false|\n",
            "|        John Grisham|          THE APPEAL|                  true|\n",
            "|       James Rollins|INDIANA JONES AND...|                 false|\n",
            "+--------------------+--------------------+----------------------+\n",
            "only showing top 20 rows\n",
            "\n"
          ]
        }
      ]
    },
    {
      "cell_type": "code",
      "source": [
        "df.select(\"author\",\"title\",df.title.endswith(\"LAND\")).show()"
      ],
      "metadata": {
        "colab": {
          "base_uri": "https://localhost:8080/"
        },
        "id": "QtAq3W1gs3_0",
        "outputId": "3034fb25-b552-4f53-9afe-2c7188e20ea1"
      },
      "execution_count": 34,
      "outputs": [
        {
          "output_type": "stream",
          "name": "stdout",
          "text": [
            "+--------------------+--------------------+---------------------+\n",
            "|              author|               title|endswith(title, LAND)|\n",
            "+--------------------+--------------------+---------------------+\n",
            "|       Dean R Koontz|           ODD HOURS|                false|\n",
            "|     Stephenie Meyer|            THE HOST|                false|\n",
            "|        Emily Giffin|LOVE THE ONE YOU'...|                false|\n",
            "|   Patricia Cornwell|           THE FRONT|                false|\n",
            "|     Chuck Palahniuk|               SNUFF|                false|\n",
            "|James Patterson a...|SUNDAYS AT TIFFANY’S|                false|\n",
            "|       John Sandford|        PHANTOM PREY|                false|\n",
            "|       Jimmy Buffett|          SWINE NOT?|                false|\n",
            "|    Elizabeth George|     CARELESS IN RED|                false|\n",
            "|      David Baldacci|     THE WHOLE TRUTH|                false|\n",
            "|        Troy Denning|          INVINCIBLE|                false|\n",
            "|          James Frey|BRIGHT SHINY MORNING|                false|\n",
            "|         Garth Stein|THE ART OF RACING...|                false|\n",
            "|     Debbie Macomber|       TWENTY WISHES|                false|\n",
            "|         Jeff Shaara|      THE STEEL WAVE|                false|\n",
            "|    Phillip Margolin| EXECUTIVE PRIVILEGE|                false|\n",
            "|       Jhumpa Lahiri|  UNACCUSTOMED EARTH|                false|\n",
            "|      Joseph O'Neill|          NETHERLAND|                 true|\n",
            "|        John Grisham|          THE APPEAL|                false|\n",
            "|       James Rollins|INDIANA JONES AND...|                false|\n",
            "+--------------------+--------------------+---------------------+\n",
            "only showing top 20 rows\n",
            "\n"
          ]
        }
      ]
    },
    {
      "cell_type": "code",
      "source": [
        "## update\n",
        "df=df.withColumnRenamed(\"amazon_product_url\",\"URL\")"
      ],
      "metadata": {
        "id": "ttED_B6ctBXp"
      },
      "execution_count": 35,
      "outputs": []
    },
    {
      "cell_type": "code",
      "source": [
        "df.show()"
      ],
      "metadata": {
        "colab": {
          "base_uri": "https://localhost:8080/"
        },
        "id": "mgiymJKEt-eD",
        "outputId": "86b11887-28cf-4aed-e753-8efa81856d6e"
      },
      "execution_count": 36,
      "outputs": [
        {
          "output_type": "stream",
          "name": "stdout",
          "text": [
            "+--------------------+--------------------+--------------------+-----------------+--------------------+-------------+-----------------+--------------------+----+--------------+--------------------+-------------+\n",
            "|                 _id|                 URL|              author| bestsellers_date|         description|        price|   published_date|           publisher|rank|rank_last_week|               title|weeks_on_list|\n",
            "+--------------------+--------------------+--------------------+-----------------+--------------------+-------------+-----------------+--------------------+----+--------------+--------------------+-------------+\n",
            "|{5b4aa4ead3089013...|http://www.amazon...|       Dean R Koontz|{{1211587200000}}|Odd Thomas, who c...|   {NULL, 27}|{{1212883200000}}|              Bantam| {1}|           {0}|           ODD HOURS|          {1}|\n",
            "|{5b4aa4ead3089013...|http://www.amazon...|     Stephenie Meyer|{{1211587200000}}|Aliens have taken...|{25.99, NULL}|{{1212883200000}}|       Little, Brown| {2}|           {1}|            THE HOST|          {3}|\n",
            "|{5b4aa4ead3089013...|http://www.amazon...|        Emily Giffin|{{1211587200000}}|A woman's happy m...|{24.95, NULL}|{{1212883200000}}|        St. Martin's| {3}|           {2}|LOVE THE ONE YOU'...|          {2}|\n",
            "|{5b4aa4ead3089013...|http://www.amazon...|   Patricia Cornwell|{{1211587200000}}|A Massachusetts s...|{22.95, NULL}|{{1212883200000}}|              Putnam| {4}|           {0}|           THE FRONT|          {1}|\n",
            "|{5b4aa4ead3089013...|http://www.amazon...|     Chuck Palahniuk|{{1211587200000}}|An aging porn que...|{24.95, NULL}|{{1212883200000}}|           Doubleday| {5}|           {0}|               SNUFF|          {1}|\n",
            "|{5b4aa4ead3089013...|http://www.amazon...|James Patterson a...|{{1211587200000}}|A woman finds an ...|{24.99, NULL}|{{1212883200000}}|       Little, Brown| {6}|           {3}|SUNDAYS AT TIFFANY’S|          {4}|\n",
            "|{5b4aa4ead3089013...|http://www.amazon...|       John Sandford|{{1211587200000}}|The Minneapolis d...|{26.95, NULL}|{{1212883200000}}|              Putnam| {7}|           {4}|        PHANTOM PREY|          {3}|\n",
            "|{5b4aa4ead3089013...|http://www.amazon...|       Jimmy Buffett|{{1211587200000}}|A Southern family...|{21.99, NULL}|{{1212883200000}}|       Little, Brown| {8}|           {6}|          SWINE NOT?|          {2}|\n",
            "|{5b4aa4ead3089013...|http://www.amazon...|    Elizabeth George|{{1211587200000}}|In Cornwall, tryi...|{27.95, NULL}|{{1212883200000}}|              Harper| {9}|           {8}|     CARELESS IN RED|          {3}|\n",
            "|{5b4aa4ead3089013...|http://www.amazon...|      David Baldacci|{{1211587200000}}|An intelligence a...|{26.99, NULL}|{{1212883200000}}|       Grand Central|{10}|           {7}|     THE WHOLE TRUTH|          {5}|\n",
            "|{5b4aa4ead3089013...|http://www.amazon...|        Troy Denning|{{1211587200000}}|The New Jedi orde...|   {NULL, 27}|{{1212883200000}}|  Del Rey/Ballantine|{11}|           {5}|          INVINCIBLE|          {2}|\n",
            "|{5b4aa4ead3089013...|http://www.amazon...|          James Frey|{{1211587200000}}|A novel, set in L...|{26.95, NULL}|{{1212883200000}}|              Harper|{12}|           {9}|BRIGHT SHINY MORNING|          {2}|\n",
            "|{5b4aa4ead3089013...|http://www.amazon...|         Garth Stein|{{1211587200000}}|A Lab-terrier mix...|{23.95, NULL}|{{1212883200000}}|              Harper|{13}|           {0}|THE ART OF RACING...|          {1}|\n",
            "|{5b4aa4ead3089013...|http://www.amazon...|     Debbie Macomber|{{1211587200000}}|A widow who owns ...|{24.95, NULL}|{{1212883200000}}|                Mira|{14}|          {10}|       TWENTY WISHES|          {4}|\n",
            "|{5b4aa4ead3089013...|http://www.amazon...|         Jeff Shaara|{{1211587200000}}|A novel about the...|   {NULL, 28}|{{1212883200000}}|          Ballantine|{15}|          {11}|      THE STEEL WAVE|          {2}|\n",
            "|{5b4aa4ead3089013...|http://www.amazon...|    Phillip Margolin|{{1211587200000}}|                    |    {NULL, 0}|{{1212883200000}}|HarperCollins Pub...|{16}|           {0}| EXECUTIVE PRIVILEGE|          {0}|\n",
            "|{5b4aa4ead3089013...|http://www.amazon...|       Jhumpa Lahiri|{{1211587200000}}|Stories of the an...|    {NULL, 0}|{{1212883200000}}|               Knopf|{17}|           {0}|  UNACCUSTOMED EARTH|          {0}|\n",
            "|{5b4aa4ead3089013...|http://www.amazon...|      Joseph O'Neill|{{1211587200000}}|A Dutchman desert...|    {NULL, 0}|{{1212883200000}}|Knopf Publishing ...|{18}|           {0}|          NETHERLAND|          {0}|\n",
            "|{5b4aa4ead3089013...|http://www.amazon...|        John Grisham|{{1211587200000}}|Political and leg...|    {NULL, 0}|{{1212883200000}}|Doubleday Publishing|{19}|           {0}|          THE APPEAL|          {0}|\n",
            "|{5b4aa4ead3089013...|http://www.amazon...|       James Rollins|{{1211587200000}}|                    |    {NULL, 0}|{{1212883200000}}|Random House Publ...|{20}|           {0}|INDIANA JONES AND...|          {0}|\n",
            "+--------------------+--------------------+--------------------+-----------------+--------------------+-------------+-----------------+--------------------+----+--------------+--------------------+-------------+\n",
            "only showing top 20 rows\n",
            "\n"
          ]
        }
      ]
    },
    {
      "cell_type": "code",
      "source": [
        "### Drop columns\n",
        "df1=df.drop(\"bestsellers_date\").show(5)"
      ],
      "metadata": {
        "colab": {
          "base_uri": "https://localhost:8080/"
        },
        "id": "ScADOyAmt_so",
        "outputId": "b4768138-2bbc-4aa9-b026-7ea92d1da46e"
      },
      "execution_count": 37,
      "outputs": [
        {
          "output_type": "stream",
          "name": "stdout",
          "text": [
            "+--------------------+--------------------+-----------------+--------------------+-------------+-----------------+-------------+----+--------------+--------------------+-------------+\n",
            "|                 _id|                 URL|           author|         description|        price|   published_date|    publisher|rank|rank_last_week|               title|weeks_on_list|\n",
            "+--------------------+--------------------+-----------------+--------------------+-------------+-----------------+-------------+----+--------------+--------------------+-------------+\n",
            "|{5b4aa4ead3089013...|http://www.amazon...|    Dean R Koontz|Odd Thomas, who c...|   {NULL, 27}|{{1212883200000}}|       Bantam| {1}|           {0}|           ODD HOURS|          {1}|\n",
            "|{5b4aa4ead3089013...|http://www.amazon...|  Stephenie Meyer|Aliens have taken...|{25.99, NULL}|{{1212883200000}}|Little, Brown| {2}|           {1}|            THE HOST|          {3}|\n",
            "|{5b4aa4ead3089013...|http://www.amazon...|     Emily Giffin|A woman's happy m...|{24.95, NULL}|{{1212883200000}}| St. Martin's| {3}|           {2}|LOVE THE ONE YOU'...|          {2}|\n",
            "|{5b4aa4ead3089013...|http://www.amazon...|Patricia Cornwell|A Massachusetts s...|{22.95, NULL}|{{1212883200000}}|       Putnam| {4}|           {0}|           THE FRONT|          {1}|\n",
            "|{5b4aa4ead3089013...|http://www.amazon...|  Chuck Palahniuk|An aging porn que...|{24.95, NULL}|{{1212883200000}}|    Doubleday| {5}|           {0}|               SNUFF|          {1}|\n",
            "+--------------------+--------------------+-----------------+--------------------+-------------+-----------------+-------------+----+--------------+--------------------+-------------+\n",
            "only showing top 5 rows\n",
            "\n"
          ]
        }
      ]
    },
    {
      "cell_type": "code",
      "source": [
        "## groupby\n",
        "df.groupby(\"author\").count().show()"
      ],
      "metadata": {
        "colab": {
          "base_uri": "https://localhost:8080/"
        },
        "id": "k0p5pW0murVn",
        "outputId": "612c9cf1-4ddd-457f-832a-83046943078c"
      },
      "execution_count": 38,
      "outputs": [
        {
          "output_type": "stream",
          "name": "stdout",
          "text": [
            "+--------------------+-----+\n",
            "|              author|count|\n",
            "+--------------------+-----+\n",
            "|          James Frey|    2|\n",
            "|    Elin Hilderbrand|   58|\n",
            "|   Sharon Kay Penman|    2|\n",
            "|         Lisa Genova|    7|\n",
            "|        Will Allison|    1|\n",
            "|   Patricia Cornwell|   64|\n",
            "|       Laurie R King|    6|\n",
            "|          Tea Obreht|    6|\n",
            "|        Sarah Dunant|    1|\n",
            "|        Tim Johnston|    1|\n",
            "|          Sara Gruen|   13|\n",
            "|Tom Clancy with P...|    9|\n",
            "|         Andre Dubus|    1|\n",
            "|        Terry Brooks|   19|\n",
            "|        Daniel Silva|   69|\n",
            "|Karen White, Beat...|    1|\n",
            "|      Jackie Collins|   14|\n",
            "|          Pat Conroy|   11|\n",
            "|          Ann B Ross|    5|\n",
            "|      Michael Savage|    3|\n",
            "+--------------------+-----+\n",
            "only showing top 20 rows\n",
            "\n"
          ]
        }
      ]
    },
    {
      "cell_type": "code",
      "source": [
        "### filter\n",
        "df.filter(df[\"title\"]==\"SNUFF\").show()"
      ],
      "metadata": {
        "colab": {
          "base_uri": "https://localhost:8080/"
        },
        "id": "-IMUUQI-u1yo",
        "outputId": "e6f300e2-309f-441c-b9e5-cd257152cb54"
      },
      "execution_count": 41,
      "outputs": [
        {
          "output_type": "stream",
          "name": "stdout",
          "text": [
            "+--------------------+--------------------+---------------+-----------------+--------------------+-------------+-----------------+--------------------+----+--------------+-----+-------------+\n",
            "|                 _id|                 URL|         author| bestsellers_date|         description|        price|   published_date|           publisher|rank|rank_last_week|title|weeks_on_list|\n",
            "+--------------------+--------------------+---------------+-----------------+--------------------+-------------+-----------------+--------------------+----+--------------+-----+-------------+\n",
            "|{5b4aa4ead3089013...|http://www.amazon...|Chuck Palahniuk|{{1211587200000}}|An aging porn que...|{24.95, NULL}|{{1212883200000}}|           Doubleday| {5}|           {0}|SNUFF|          {1}|\n",
            "|{5b4aa4ead3089013...|http://www.amazon...|Chuck Palahniuk|{{1212192000000}}|An aging porn que...|{24.95, NULL}|{{1213488000000}}|           Doubleday|{10}|           {5}|SNUFF|          {2}|\n",
            "|{5b4aa4ead3089013...|http://www.amazon...|Chuck Palahniuk|{{1212796800000}}|An aging porn que...|{24.95, NULL}|{{1214092800000}}|           Doubleday|{10}|          {10}|SNUFF|          {3}|\n",
            "|{5b4aa4ead3089013...|http://www.amazon...|Chuck Palahniuk|{{1213401600000}}|An aging porn que...|    {NULL, 0}|{{1214697600000}}|           Doubleday|{18}|           {0}|SNUFF|          {0}|\n",
            "|{5b4aa4ead3089013...|http://www.amazon...|Chuck Palahniuk|{{1214006400000}}|An aging porn que...|    {NULL, 0}|{{1215302400000}}|           Doubleday|{17}|           {0}|SNUFF|          {0}|\n",
            "|{5b4aa4ead3089013...|http://www.amazon...|Terry Pratchett|{{1318636800000}}|In this Discworld...|{25.99, NULL}|{{1319932800000}}|Harper/HarperCollins| {3}|           {0}|SNUFF|          {1}|\n",
            "|{5b4aa4ead3089013...|http://www.amazon...|Terry Pratchett|{{1319241600000}}|In this Discworld...|    {NULL, 0}|{{1320537600000}}|Harper/HarperCollins|{17}|           {0}|SNUFF|          {0}|\n",
            "+--------------------+--------------------+---------------+-----------------+--------------------+-------------+-----------------+--------------------+----+--------------+-----+-------------+\n",
            "\n"
          ]
        }
      ]
    },
    {
      "cell_type": "code",
      "source": [
        "df.select(\"author\",\"title\",\"description\",\"price\").write.save(\"Authors.json\",format=\"json\")"
      ],
      "metadata": {
        "id": "GnicObH7vg7s"
      },
      "execution_count": 42,
      "outputs": []
    },
    {
      "cell_type": "code",
      "source": [
        "### view this file\n",
        "### save as parquet format"
      ],
      "metadata": {
        "id": "75keb_J0wPfS"
      },
      "execution_count": null,
      "outputs": []
    }
  ]
}