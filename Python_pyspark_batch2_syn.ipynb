{
 "cells": [
  {
   "cell_type": "code",
   "execution_count": 1,
   "id": "9d766cf1-849d-49a6-8b70-825db290afd2",
   "metadata": {},
   "outputs": [
    {
     "name": "stdout",
     "output_type": "stream",
     "text": [
      "hello World\n"
     ]
    }
   ],
   "source": [
    "print(\"hello World\")"
   ]
  },
  {
   "cell_type": "code",
   "execution_count": 2,
   "id": "894501a5-a5c7-4a4c-900c-3be878512cd7",
   "metadata": {},
   "outputs": [
    {
     "name": "stdout",
     "output_type": "stream",
     "text": [
      "Latha\n"
     ]
    }
   ],
   "source": [
    "print(\"Latha\")"
   ]
  },
  {
   "cell_type": "code",
   "execution_count": 3,
   "id": "945adac2-98b4-4443-95e4-af65686decf9",
   "metadata": {},
   "outputs": [
    {
     "ename": "NameError",
     "evalue": "name 'Print' is not defined",
     "output_type": "error",
     "traceback": [
      "\u001b[1;31m---------------------------------------------------------------------------\u001b[0m",
      "\u001b[1;31mNameError\u001b[0m                                 Traceback (most recent call last)",
      "Cell \u001b[1;32mIn[3], line 1\u001b[0m\n\u001b[1;32m----> 1\u001b[0m Print(\u001b[38;5;124m\"\u001b[39m\u001b[38;5;124mhello\u001b[39m\u001b[38;5;124m\"\u001b[39m)\n",
      "\u001b[1;31mNameError\u001b[0m: name 'Print' is not defined"
     ]
    }
   ],
   "source": [
    "Print(\"hello\")"
   ]
  },
  {
   "cell_type": "code",
   "execution_count": 4,
   "id": "d2952c9f-42e8-43d4-aff9-b0dc679d65f3",
   "metadata": {},
   "outputs": [
    {
     "ename": "NameError",
     "evalue": "name 'PRINT' is not defined",
     "output_type": "error",
     "traceback": [
      "\u001b[1;31m---------------------------------------------------------------------------\u001b[0m",
      "\u001b[1;31mNameError\u001b[0m                                 Traceback (most recent call last)",
      "Cell \u001b[1;32mIn[4], line 1\u001b[0m\n\u001b[1;32m----> 1\u001b[0m PRINT(\u001b[38;5;124m\"\u001b[39m\u001b[38;5;124mhi\u001b[39m\u001b[38;5;124m\"\u001b[39m)\n",
      "\u001b[1;31mNameError\u001b[0m: name 'PRINT' is not defined"
     ]
    }
   ],
   "source": [
    "PRINT(\"hi\")"
   ]
  },
  {
   "cell_type": "code",
   "execution_count": 5,
   "id": "5805739d-edaf-4fad-98f1-4a10e50d9a5e",
   "metadata": {},
   "outputs": [
    {
     "ename": "NameError",
     "evalue": "name 'hi' is not defined",
     "output_type": "error",
     "traceback": [
      "\u001b[1;31m---------------------------------------------------------------------------\u001b[0m",
      "\u001b[1;31mNameError\u001b[0m                                 Traceback (most recent call last)",
      "Cell \u001b[1;32mIn[5], line 1\u001b[0m\n\u001b[1;32m----> 1\u001b[0m \u001b[38;5;28mprint\u001b[39m(hi)\n",
      "\u001b[1;31mNameError\u001b[0m: name 'hi' is not defined"
     ]
    }
   ],
   "source": [
    "print(hi)"
   ]
  },
  {
   "cell_type": "code",
   "execution_count": 6,
   "id": "139f301e-2be7-49e7-9ac5-8e2e5caf67c7",
   "metadata": {},
   "outputs": [
    {
     "name": "stdout",
     "output_type": "stream",
     "text": [
      "10\n"
     ]
    }
   ],
   "source": [
    "print(10)"
   ]
  },
  {
   "cell_type": "code",
   "execution_count": 7,
   "id": "1053004e-efe7-45d0-9796-ed0c0249cb9e",
   "metadata": {},
   "outputs": [
    {
     "name": "stdout",
     "output_type": "stream",
     "text": [
      "latha\n"
     ]
    }
   ],
   "source": [
    "print('latha')"
   ]
  },
  {
   "cell_type": "code",
   "execution_count": 8,
   "id": "b8dad426-9aed-4423-b74e-0f2d287b356a",
   "metadata": {},
   "outputs": [
    {
     "ename": "SyntaxError",
     "evalue": "unterminated string literal (detected at line 1) (3698523581.py, line 1)",
     "output_type": "error",
     "traceback": [
      "\u001b[1;36m  Cell \u001b[1;32mIn[8], line 1\u001b[1;36m\u001b[0m\n\u001b[1;33m    print(\"latha')\u001b[0m\n\u001b[1;37m          ^\u001b[0m\n\u001b[1;31mSyntaxError\u001b[0m\u001b[1;31m:\u001b[0m unterminated string literal (detected at line 1)\n"
     ]
    }
   ],
   "source": [
    "print(\"latha')"
   ]
  },
  {
   "cell_type": "code",
   "execution_count": 9,
   "id": "272de9a2-21bc-4b53-a22f-ce7ef4f9807c",
   "metadata": {},
   "outputs": [
    {
     "name": "stdout",
     "output_type": "stream",
     "text": [
      "10.5\n"
     ]
    }
   ],
   "source": [
    "print(10.5)"
   ]
  },
  {
   "cell_type": "code",
   "execution_count": 10,
   "id": "edca9c04-8956-462e-9c9f-c28a025653aa",
   "metadata": {},
   "outputs": [
    {
     "data": {
      "text/plain": [
       "int"
      ]
     },
     "execution_count": 10,
     "metadata": {},
     "output_type": "execute_result"
    }
   ],
   "source": [
    "x=1\n",
    "type(x)"
   ]
  },
  {
   "cell_type": "code",
   "execution_count": 11,
   "id": "e422e1e9-86ca-407b-b7ac-a0788bf85115",
   "metadata": {},
   "outputs": [
    {
     "data": {
      "text/plain": [
       "float"
      ]
     },
     "execution_count": 11,
     "metadata": {},
     "output_type": "execute_result"
    }
   ],
   "source": [
    "x=1.5\n",
    "type(x)"
   ]
  },
  {
   "cell_type": "code",
   "execution_count": 12,
   "id": "191dc84b-1fd1-4f77-83b9-1f2ae94cc424",
   "metadata": {},
   "outputs": [
    {
     "data": {
      "text/plain": [
       "str"
      ]
     },
     "execution_count": 12,
     "metadata": {},
     "output_type": "execute_result"
    }
   ],
   "source": [
    "z=\"Python\"\n",
    "type(z)"
   ]
  },
  {
   "cell_type": "code",
   "execution_count": 13,
   "id": "be8556d7-807a-4e0c-b154-dfa603d7ba7e",
   "metadata": {},
   "outputs": [
    {
     "data": {
      "text/plain": [
       "bool"
      ]
     },
     "execution_count": 13,
     "metadata": {},
     "output_type": "execute_result"
    }
   ],
   "source": [
    "y=True\n",
    "type(y)"
   ]
  },
  {
   "cell_type": "code",
   "execution_count": 15,
   "id": "69a7eacc-e84a-41ae-bffd-b60e8959ea71",
   "metadata": {},
   "outputs": [
    {
     "ename": "NameError",
     "evalue": "name 'false' is not defined",
     "output_type": "error",
     "traceback": [
      "\u001b[1;31m---------------------------------------------------------------------------\u001b[0m",
      "\u001b[1;31mNameError\u001b[0m                                 Traceback (most recent call last)",
      "Cell \u001b[1;32mIn[15], line 1\u001b[0m\n\u001b[1;32m----> 1\u001b[0m y\u001b[38;5;241m=\u001b[39mfalse\n\u001b[0;32m      2\u001b[0m \u001b[38;5;28mtype\u001b[39m(y)\n",
      "\u001b[1;31mNameError\u001b[0m: name 'false' is not defined"
     ]
    }
   ],
   "source": [
    "y=false\n",
    "type(y)"
   ]
  },
  {
   "cell_type": "code",
   "execution_count": 16,
   "id": "645cf131-a5df-4726-ba2e-97ef455d5ddf",
   "metadata": {},
   "outputs": [
    {
     "data": {
      "text/plain": [
       "str"
      ]
     },
     "execution_count": 16,
     "metadata": {},
     "output_type": "execute_result"
    }
   ],
   "source": [
    "z=\"True\"\n",
    "type(z)"
   ]
  },
  {
   "cell_type": "markdown",
   "id": "3a7bad49-f70e-4cc6-938b-b0f3e56340a1",
   "metadata": {},
   "source": [
    "### Variables"
   ]
  },
  {
   "cell_type": "markdown",
   "id": "2a5c4f86-45d5-477f-b4f3-ff6bcd057080",
   "metadata": {},
   "source": [
    "# Variables"
   ]
  },
  {
   "cell_type": "code",
   "execution_count": 17,
   "id": "bed9ab0b-3c23-4ead-bb18-d233369865bb",
   "metadata": {},
   "outputs": [
    {
     "data": {
      "text/plain": [
       "['Python', 'R', 'Spark']"
      ]
     },
     "execution_count": 17,
     "metadata": {},
     "output_type": "execute_result"
    }
   ],
   "source": [
    "bookslist=[\"Python\",\"R\",\"Spark\"]\n",
    "bookslist"
   ]
  },
  {
   "cell_type": "code",
   "execution_count": 18,
   "id": "e4f9b2ca-d9c7-4f20-bb2c-8a667ca6941b",
   "metadata": {},
   "outputs": [
    {
     "ename": "SyntaxError",
     "evalue": "invalid syntax (3293717452.py, line 1)",
     "output_type": "error",
     "traceback": [
      "\u001b[1;36m  Cell \u001b[1;32mIn[18], line 1\u001b[1;36m\u001b[0m\n\u001b[1;33m    books list=[\"Python\",\"R\",\"Spark\"]\u001b[0m\n\u001b[1;37m          ^\u001b[0m\n\u001b[1;31mSyntaxError\u001b[0m\u001b[1;31m:\u001b[0m invalid syntax\n"
     ]
    }
   ],
   "source": [
    "books list=[\"Python\",\"R\",\"Spark\"]    #Space is not allowed\n",
    "books list"
   ]
  },
  {
   "cell_type": "code",
   "execution_count": 19,
   "id": "f5513739-0be7-44a8-bdb2-f6497b75aae3",
   "metadata": {},
   "outputs": [
    {
     "ename": "SyntaxError",
     "evalue": "invalid decimal literal (126418979.py, line 1)",
     "output_type": "error",
     "traceback": [
      "\u001b[1;36m  Cell \u001b[1;32mIn[19], line 1\u001b[1;36m\u001b[0m\n\u001b[1;33m    3bookslist=[\"Python\",\"R\",\"Spark\"]\u001b[0m\n\u001b[1;37m    ^\u001b[0m\n\u001b[1;31mSyntaxError\u001b[0m\u001b[1;31m:\u001b[0m invalid decimal literal\n"
     ]
    }
   ],
   "source": [
    "3bookslist=[\"Python\",\"R\",\"Spark\"]  #Should not start with a number\n",
    "3bookslist"
   ]
  },
  {
   "cell_type": "code",
   "execution_count": 20,
   "id": "e8d665d5-9e93-4dc9-b92f-2c0f46cf49b1",
   "metadata": {},
   "outputs": [
    {
     "data": {
      "text/plain": [
       "['Python', 'R', 'Spark']"
      ]
     },
     "execution_count": 20,
     "metadata": {},
     "output_type": "execute_result"
    }
   ],
   "source": [
    "b3ookslist=[\"Python\",\"R\",\"Spark\"]\n",
    "b3ookslist"
   ]
  },
  {
   "cell_type": "code",
   "execution_count": 22,
   "id": "b3e2c49c-bae4-485c-a5c1-daba65cec762",
   "metadata": {},
   "outputs": [
    {
     "ename": "SyntaxError",
     "evalue": "cannot assign to expression here. Maybe you meant '==' instead of '='? (2898588560.py, line 1)",
     "output_type": "error",
     "traceback": [
      "\u001b[1;36m  Cell \u001b[1;32mIn[22], line 1\u001b[1;36m\u001b[0m\n\u001b[1;33m    books+list=[\"Python\",\"R\",\"Spark\"]\u001b[0m\n\u001b[1;37m    ^\u001b[0m\n\u001b[1;31mSyntaxError\u001b[0m\u001b[1;31m:\u001b[0m cannot assign to expression here. Maybe you meant '==' instead of '='?\n"
     ]
    }
   ],
   "source": [
    "books+list=[\"Python\",\"R\",\"Spark\"]\n",
    "books+list"
   ]
  },
  {
   "cell_type": "code",
   "execution_count": 23,
   "id": "1dd7e058-2feb-4d43-9cb6-a04070ef8247",
   "metadata": {},
   "outputs": [
    {
     "data": {
      "text/plain": [
       "['Python', 'R', 'Spark']"
      ]
     },
     "execution_count": 23,
     "metadata": {},
     "output_type": "execute_result"
    }
   ],
   "source": [
    "books_list=[\"Python\",\"R\",\"Spark\"]\n",
    "books_list"
   ]
  },
  {
   "cell_type": "code",
   "execution_count": 24,
   "id": "1fe18709-3f66-4974-8582-459b95e2c0bb",
   "metadata": {},
   "outputs": [
    {
     "data": {
      "text/plain": [
       "['Python', 'R', 'Spark']"
      ]
     },
     "execution_count": 24,
     "metadata": {},
     "output_type": "execute_result"
    }
   ],
   "source": [
    "Bookslist=[\"Python\",\"R\",\"Spark\"]\n",
    "Bookslist"
   ]
  },
  {
   "cell_type": "code",
   "execution_count": 25,
   "id": "2f528835-7d7b-4008-a13b-5e9e0f848d24",
   "metadata": {},
   "outputs": [
    {
     "data": {
      "text/plain": [
       "['Python', 'R', 'Spark']"
      ]
     },
     "execution_count": 25,
     "metadata": {},
     "output_type": "execute_result"
    }
   ],
   "source": [
    "_books_list=[\"Python\",\"R\",\"Spark\"]\n",
    "_books_list"
   ]
  },
  {
   "cell_type": "code",
   "execution_count": 26,
   "id": "72db327e-238d-4909-8ba7-fa970b77e7b8",
   "metadata": {},
   "outputs": [
    {
     "ename": "NameError",
     "evalue": "name 'booklist' is not defined",
     "output_type": "error",
     "traceback": [
      "\u001b[1;31m---------------------------------------------------------------------------\u001b[0m",
      "\u001b[1;31mNameError\u001b[0m                                 Traceback (most recent call last)",
      "Cell \u001b[1;32mIn[26], line 2\u001b[0m\n\u001b[0;32m      1\u001b[0m Booklist\u001b[38;5;241m=\u001b[39m[\u001b[38;5;124m\"\u001b[39m\u001b[38;5;124mPython\u001b[39m\u001b[38;5;124m\"\u001b[39m,\u001b[38;5;124m\"\u001b[39m\u001b[38;5;124mR\u001b[39m\u001b[38;5;124m\"\u001b[39m,\u001b[38;5;124m\"\u001b[39m\u001b[38;5;124mSpark\u001b[39m\u001b[38;5;124m\"\u001b[39m]\n\u001b[1;32m----> 2\u001b[0m booklist\n",
      "\u001b[1;31mNameError\u001b[0m: name 'booklist' is not defined"
     ]
    }
   ],
   "source": [
    "Booklist=[\"Python\",\"R\",\"Spark\"]\n",
    "booklist"
   ]
  },
  {
   "cell_type": "markdown",
   "id": "646774cf-7e64-48d9-a67f-1cbe5e15c5c7",
   "metadata": {},
   "source": [
    "#### variable names should start with a-z,A-Z or _\n",
    "#### variable names should not start with a number\n",
    "#### The only allowed spl chatracter is _\n",
    "#### Space is not allowed"
   ]
  },
  {
   "cell_type": "markdown",
   "id": "7fab3f2b-7403-49df-9269-615516c12036",
   "metadata": {},
   "source": [
    "### Strings"
   ]
  },
  {
   "cell_type": "code",
   "execution_count": 32,
   "id": "31b8db9d-04ca-4223-83eb-599a76d76367",
   "metadata": {},
   "outputs": [
    {
     "name": "stdout",
     "output_type": "stream",
     "text": [
      "Hello World\n"
     ]
    },
    {
     "data": {
      "text/plain": [
       "str"
      ]
     },
     "execution_count": 32,
     "metadata": {},
     "output_type": "execute_result"
    }
   ],
   "source": [
    "my_string=\"Hello World\"\n",
    "print(my_string)\n",
    "type(my_string)\n"
   ]
  },
  {
   "cell_type": "code",
   "execution_count": 33,
   "id": "c2074e95-c4e3-4162-8537-40a8a08cf665",
   "metadata": {},
   "outputs": [
    {
     "data": {
      "text/plain": [
       "'Hello WorldHello World'"
      ]
     },
     "execution_count": 33,
     "metadata": {},
     "output_type": "execute_result"
    }
   ],
   "source": [
    "my_string1=my_string*2\n",
    "my_string1"
   ]
  },
  {
   "cell_type": "code",
   "execution_count": 35,
   "id": "cfd0019c-f3e9-45b4-ab35-dd6cfc7fa2b4",
   "metadata": {},
   "outputs": [
    {
     "data": {
      "text/plain": [
       "'Hello Hello Hello Hello Hello Hello Hello Hello Hello Hello Hello Hello Hello Hello Hello Hello Hello Hello Hello Hello Hello Hello Hello Hello Hello Hello Hello Hello Hello Hello Hello Hello Hello Hello Hello Hello Hello Hello Hello Hello Hello Hello Hello Hello Hello Hello Hello Hello Hello Hello Hello Hello Hello Hello Hello Hello Hello Hello Hello Hello Hello Hello Hello Hello Hello Hello Hello Hello Hello Hello Hello Hello Hello Hello Hello Hello Hello Hello Hello Hello Hello Hello Hello Hello Hello Hello Hello Hello Hello Hello Hello Hello Hello Hello Hello Hello Hello Hello Hello Hello '"
      ]
     },
     "execution_count": 35,
     "metadata": {},
     "output_type": "execute_result"
    }
   ],
   "source": [
    "### Print hello 100 times\n",
    "my_string = 'Hello '\n",
    "mstring1=my_string*100\n",
    "mstring1"
   ]
  },
  {
   "cell_type": "markdown",
   "id": "ea3c1346-af04-4717-855b-0b2671f99368",
   "metadata": {},
   "source": [
    "### String Indexing"
   ]
  },
  {
   "cell_type": "code",
   "execution_count": 36,
   "id": "fb490985-f779-485a-b9b4-7adc5ef1d9a2",
   "metadata": {},
   "outputs": [
    {
     "data": {
      "text/plain": [
       "'Welcome to the Session!'"
      ]
     },
     "execution_count": 36,
     "metadata": {},
     "output_type": "execute_result"
    }
   ],
   "source": [
    "string1=\"Welcome to the Session!\"\n",
    "string1"
   ]
  },
  {
   "cell_type": "code",
   "execution_count": 37,
   "id": "43e86101-6f45-4fe0-8c33-68e87f4e23a1",
   "metadata": {},
   "outputs": [
    {
     "data": {
      "text/plain": [
       "'W'"
      ]
     },
     "execution_count": 37,
     "metadata": {},
     "output_type": "execute_result"
    }
   ],
   "source": [
    "string1[0]"
   ]
  },
  {
   "cell_type": "code",
   "execution_count": 39,
   "id": "22d75b40-20b6-4b54-ba26-1a12937f7b17",
   "metadata": {},
   "outputs": [
    {
     "data": {
      "text/plain": [
       "'e'"
      ]
     },
     "execution_count": 39,
     "metadata": {},
     "output_type": "execute_result"
    }
   ],
   "source": [
    "string1[1]"
   ]
  },
  {
   "cell_type": "code",
   "execution_count": 40,
   "id": "682fe84e-c8c8-47bb-ae55-77c2d009deca",
   "metadata": {},
   "outputs": [
    {
     "data": {
      "text/plain": [
       "' '"
      ]
     },
     "execution_count": 40,
     "metadata": {},
     "output_type": "execute_result"
    }
   ],
   "source": [
    "string1[7]"
   ]
  },
  {
   "cell_type": "code",
   "execution_count": 41,
   "id": "c7217fde-b3d2-4f6f-b1c4-3a171d1e70d6",
   "metadata": {},
   "outputs": [
    {
     "data": {
      "text/plain": [
       "'t'"
      ]
     },
     "execution_count": 41,
     "metadata": {},
     "output_type": "execute_result"
    }
   ],
   "source": [
    "string1[8]"
   ]
  },
  {
   "cell_type": "code",
   "execution_count": 42,
   "id": "14e2b899-f69a-4d00-98cf-8f9537af845c",
   "metadata": {},
   "outputs": [
    {
     "data": {
      "text/plain": [
       "'!'"
      ]
     },
     "execution_count": 42,
     "metadata": {},
     "output_type": "execute_result"
    }
   ],
   "source": [
    "string1[-1]"
   ]
  },
  {
   "cell_type": "code",
   "execution_count": 43,
   "id": "370af69a-4185-4b96-9f16-a9d9143291c7",
   "metadata": {},
   "outputs": [
    {
     "data": {
      "text/plain": [
       "'W'"
      ]
     },
     "execution_count": 43,
     "metadata": {},
     "output_type": "execute_result"
    }
   ],
   "source": [
    "string1[-0]"
   ]
  },
  {
   "cell_type": "code",
   "execution_count": 44,
   "id": "021825b2-7b3d-40cf-8f58-79e63225648b",
   "metadata": {},
   "outputs": [
    {
     "data": {
      "text/plain": [
       "'s'"
      ]
     },
     "execution_count": 44,
     "metadata": {},
     "output_type": "execute_result"
    }
   ],
   "source": [
    "string1[17]"
   ]
  },
  {
   "cell_type": "code",
   "execution_count": 46,
   "id": "95e9fe79-05fd-4e66-928e-e455ee9a3bc7",
   "metadata": {},
   "outputs": [
    {
     "data": {
      "text/plain": [
       "'s'"
      ]
     },
     "execution_count": 46,
     "metadata": {},
     "output_type": "execute_result"
    }
   ],
   "source": [
    "string1[-5]"
   ]
  },
  {
   "cell_type": "code",
   "execution_count": 47,
   "id": "51f1312f-afe6-4cb7-b9f3-b1838be380e5",
   "metadata": {},
   "outputs": [
    {
     "data": {
      "text/plain": [
       "23"
      ]
     },
     "execution_count": 47,
     "metadata": {},
     "output_type": "execute_result"
    }
   ],
   "source": [
    "len(string1)"
   ]
  },
  {
   "cell_type": "code",
   "execution_count": 49,
   "id": "9b23160f-d250-4492-9226-fccd4d0e0c15",
   "metadata": {},
   "outputs": [
    {
     "data": {
      "text/plain": [
       "'n'"
      ]
     },
     "execution_count": 49,
     "metadata": {},
     "output_type": "execute_result"
    }
   ],
   "source": [
    "string1[len(string1)-2]"
   ]
  },
  {
   "cell_type": "markdown",
   "id": "5d055ba0-a835-4a92-81e0-56c3fe0f995e",
   "metadata": {},
   "source": [
    "### Slicing"
   ]
  },
  {
   "cell_type": "code",
   "execution_count": 50,
   "id": "0a928246-fe0c-4221-a138-d17e72c9cb63",
   "metadata": {},
   "outputs": [
    {
     "data": {
      "text/plain": [
       "'Welcome to the Session!'"
      ]
     },
     "execution_count": 50,
     "metadata": {},
     "output_type": "execute_result"
    }
   ],
   "source": [
    "string1"
   ]
  },
  {
   "cell_type": "code",
   "execution_count": 51,
   "id": "6e5ecaec-8a95-4626-9895-ff183d850b51",
   "metadata": {},
   "outputs": [
    {
     "data": {
      "text/plain": [
       "'Welco'"
      ]
     },
     "execution_count": 51,
     "metadata": {},
     "output_type": "execute_result"
    }
   ],
   "source": [
    "string1[0:5]"
   ]
  },
  {
   "cell_type": "code",
   "execution_count": 52,
   "id": "d360a2fe-c9bf-4489-a53a-f6666f92a508",
   "metadata": {},
   "outputs": [
    {
     "data": {
      "text/plain": [
       "'come'"
      ]
     },
     "execution_count": 52,
     "metadata": {},
     "output_type": "execute_result"
    }
   ],
   "source": [
    "string1[3:7]"
   ]
  },
  {
   "cell_type": "code",
   "execution_count": 56,
   "id": "bda9b166-210f-494d-824b-dc0aae214b70",
   "metadata": {},
   "outputs": [
    {
     "data": {
      "text/plain": [
       "''"
      ]
     },
     "execution_count": 56,
     "metadata": {},
     "output_type": "execute_result"
    }
   ],
   "source": [
    "string1[7:3]"
   ]
  },
  {
   "cell_type": "code",
   "execution_count": 55,
   "id": "e9ef8aa3-f90c-4446-8ebb-08ece61602bd",
   "metadata": {},
   "outputs": [
    {
     "data": {
      "text/plain": [
       "'ion'"
      ]
     },
     "execution_count": 55,
     "metadata": {},
     "output_type": "execute_result"
    }
   ],
   "source": [
    "string1[-4:-1]"
   ]
  },
  {
   "cell_type": "code",
   "execution_count": 57,
   "id": "ffc782c7-a479-4bc2-99e7-cb9addeea931",
   "metadata": {},
   "outputs": [
    {
     "data": {
      "text/plain": [
       "''"
      ]
     },
     "execution_count": 57,
     "metadata": {},
     "output_type": "execute_result"
    }
   ],
   "source": [
    "string1[-1:-4]"
   ]
  },
  {
   "cell_type": "code",
   "execution_count": 58,
   "id": "52a97189-7db7-4581-ba9d-0f07d14bbe40",
   "metadata": {},
   "outputs": [
    {
     "data": {
      "text/plain": [
       "'come to the Session!'"
      ]
     },
     "execution_count": 58,
     "metadata": {},
     "output_type": "execute_result"
    }
   ],
   "source": [
    "string1[3:] # Retrieving from 3rd character"
   ]
  },
  {
   "cell_type": "code",
   "execution_count": 59,
   "id": "68d119c2-83cb-4aa7-baa6-5d6559e19e2f",
   "metadata": {},
   "outputs": [
    {
     "data": {
      "text/plain": [
       "'Wel'"
      ]
     },
     "execution_count": 59,
     "metadata": {},
     "output_type": "execute_result"
    }
   ],
   "source": [
    "string1[:3]  # Retrieving first 3 characters"
   ]
  },
  {
   "cell_type": "markdown",
   "id": "8c22ef4f-e362-40de-94e4-483501b8dd72",
   "metadata": {},
   "source": [
    "### string concatenation"
   ]
  },
  {
   "cell_type": "code",
   "execution_count": 60,
   "id": "6f61a6ad-d772-419d-ac51-1b48954c14e4",
   "metadata": {},
   "outputs": [
    {
     "data": {
      "text/plain": [
       "'Welcome to the Session!Happy Learning!'"
      ]
     },
     "execution_count": 60,
     "metadata": {},
     "output_type": "execute_result"
    }
   ],
   "source": [
    "string2=\"Happy Learning!\"\n",
    "string3=string1+string2\n",
    "string3"
   ]
  },
  {
   "cell_type": "code",
   "execution_count": 62,
   "id": "a58ac55c-7d9f-454f-895f-7b542cd98172",
   "metadata": {},
   "outputs": [
    {
     "name": "stdout",
     "output_type": "stream",
     "text": [
      "W\n",
      "e\n",
      "l\n",
      "c\n",
      "o\n",
      "m\n",
      "e\n",
      " \n",
      "t\n",
      "o\n",
      " \n",
      "t\n",
      "h\n",
      "e\n",
      " \n",
      "S\n",
      "e\n",
      "s\n",
      "s\n",
      "i\n",
      "o\n",
      "n\n",
      "!\n",
      "H\n",
      "a\n",
      "p\n",
      "p\n",
      "y\n",
      " \n",
      "L\n",
      "e\n",
      "a\n",
      "r\n",
      "n\n",
      "i\n",
      "n\n",
      "g\n",
      "!\n"
     ]
    }
   ],
   "source": [
    "### Iterate through string\n",
    "\n",
    "for i in string3:\n",
    "    print(i)"
   ]
  },
  {
   "cell_type": "code",
   "execution_count": null,
   "id": "eb20da92-005b-4525-bfaa-5dfe4ff33d92",
   "metadata": {},
   "outputs": [],
   "source": [
    "### Membership"
   ]
  },
  {
   "cell_type": "code",
   "execution_count": 63,
   "id": "b6405503-9e69-468b-a54e-d4a1c32ec71e",
   "metadata": {},
   "outputs": [
    {
     "name": "stdout",
     "output_type": "stream",
     "text": [
      "True\n"
     ]
    }
   ],
   "source": [
    "print(\"Learning\" in string3)"
   ]
  },
  {
   "cell_type": "code",
   "execution_count": 64,
   "id": "794abb06-2ee4-44a1-ab2a-ffaf5f73ad3a",
   "metadata": {},
   "outputs": [
    {
     "name": "stdout",
     "output_type": "stream",
     "text": [
      "False\n"
     ]
    }
   ],
   "source": [
    "print(\"Latha\" in string3)"
   ]
  },
  {
   "cell_type": "code",
   "execution_count": 65,
   "id": "14e1da99-1786-40b1-8050-6d9c0a64d217",
   "metadata": {},
   "outputs": [
    {
     "name": "stdout",
     "output_type": "stream",
     "text": [
      "False\n"
     ]
    }
   ],
   "source": [
    "print(\"Python\" in string3)"
   ]
  },
  {
   "cell_type": "code",
   "execution_count": 66,
   "id": "309121b8-dfb3-4ad6-b542-8818a503238b",
   "metadata": {},
   "outputs": [
    {
     "name": "stdout",
     "output_type": "stream",
     "text": [
      "True\n"
     ]
    }
   ],
   "source": [
    "print(\"Session\" in string3)"
   ]
  },
  {
   "cell_type": "code",
   "execution_count": 73,
   "id": "49392409-fd61-4e89-ba21-a82114754108",
   "metadata": {},
   "outputs": [],
   "source": [
    "part=string3.partition(\"!\")"
   ]
  },
  {
   "cell_type": "code",
   "execution_count": 74,
   "id": "7659bc4a-4834-47b6-bec5-3951f3bc946d",
   "metadata": {},
   "outputs": [
    {
     "data": {
      "text/plain": [
       "('Welcome to the Session', '!', 'Happy Learning!')"
      ]
     },
     "execution_count": 74,
     "metadata": {},
     "output_type": "execute_result"
    }
   ],
   "source": [
    "part"
   ]
  },
  {
   "cell_type": "code",
   "execution_count": 75,
   "id": "54691f30-201a-46b4-923b-e1f274e4a0d6",
   "metadata": {},
   "outputs": [
    {
     "data": {
      "text/plain": [
       "'       Hello        '"
      ]
     },
     "execution_count": 75,
     "metadata": {},
     "output_type": "execute_result"
    }
   ],
   "source": [
    "strings=\"       Hello        \"\n",
    "strings"
   ]
  },
  {
   "cell_type": "code",
   "execution_count": 76,
   "id": "8b1a9486-5864-4c65-9eb1-6eee4f7e1b0a",
   "metadata": {},
   "outputs": [
    {
     "data": {
      "text/plain": [
       "'Hello'"
      ]
     },
     "execution_count": 76,
     "metadata": {},
     "output_type": "execute_result"
    }
   ],
   "source": [
    "strings.strip()"
   ]
  },
  {
   "cell_type": "code",
   "execution_count": 77,
   "id": "ab00fce6-2620-414c-9f30-dc90e75e558f",
   "metadata": {},
   "outputs": [
    {
     "data": {
      "text/plain": [
       "'       Hello'"
      ]
     },
     "execution_count": 77,
     "metadata": {},
     "output_type": "execute_result"
    }
   ],
   "source": [
    "strings.rstrip()"
   ]
  },
  {
   "cell_type": "code",
   "execution_count": 78,
   "id": "88499ab6-4a62-42bc-a7c5-7158073c1d66",
   "metadata": {},
   "outputs": [
    {
     "data": {
      "text/plain": [
       "'Hello        '"
      ]
     },
     "execution_count": 78,
     "metadata": {},
     "output_type": "execute_result"
    }
   ],
   "source": [
    "strings.lstrip()"
   ]
  },
  {
   "cell_type": "code",
   "execution_count": 85,
   "id": "e19c05fc-09f7-4568-b2ad-01eeb411b4b9",
   "metadata": {},
   "outputs": [
    {
     "data": {
      "text/plain": [
       "'**********Hello**********'"
      ]
     },
     "execution_count": 85,
     "metadata": {},
     "output_type": "execute_result"
    }
   ],
   "source": [
    "mystr=\"**********Hello**********\"\n",
    "mystr"
   ]
  },
  {
   "cell_type": "code",
   "execution_count": 86,
   "id": "3353abd9-82ce-4517-b916-b1e9a8fb4f3d",
   "metadata": {},
   "outputs": [
    {
     "data": {
      "text/plain": [
       "'**********Hello**********'"
      ]
     },
     "execution_count": 86,
     "metadata": {},
     "output_type": "execute_result"
    }
   ],
   "source": [
    "mystr.strip()"
   ]
  },
  {
   "cell_type": "code",
   "execution_count": 87,
   "id": "c969589d-845c-43d2-9195-7435311d75cf",
   "metadata": {},
   "outputs": [
    {
     "data": {
      "text/plain": [
       "'Hello'"
      ]
     },
     "execution_count": 87,
     "metadata": {},
     "output_type": "execute_result"
    }
   ],
   "source": [
    "mystr.strip('*')"
   ]
  },
  {
   "cell_type": "code",
   "execution_count": 88,
   "id": "fe4dcda6-82c6-4af2-adcf-62dff17de412",
   "metadata": {},
   "outputs": [
    {
     "data": {
      "text/plain": [
       "'**********Hello'"
      ]
     },
     "execution_count": 88,
     "metadata": {},
     "output_type": "execute_result"
    }
   ],
   "source": [
    "mystr.rstrip('*')"
   ]
  },
  {
   "cell_type": "code",
   "execution_count": 89,
   "id": "a2855903-e747-401b-b066-c84d53216410",
   "metadata": {},
   "outputs": [
    {
     "data": {
      "text/plain": [
       "'Hello**********'"
      ]
     },
     "execution_count": 89,
     "metadata": {},
     "output_type": "execute_result"
    }
   ],
   "source": [
    "mystr.lstrip('*')"
   ]
  },
  {
   "cell_type": "code",
   "execution_count": 90,
   "id": "b680e025-4b84-4479-985b-cc20679d016b",
   "metadata": {},
   "outputs": [
    {
     "data": {
      "text/plain": [
       "'**********hello**********'"
      ]
     },
     "execution_count": 90,
     "metadata": {},
     "output_type": "execute_result"
    }
   ],
   "source": [
    "mystr.lower()"
   ]
  },
  {
   "cell_type": "code",
   "execution_count": 91,
   "id": "647343cd-4517-465f-adce-4ebeee80c97f",
   "metadata": {},
   "outputs": [
    {
     "data": {
      "text/plain": [
       "'**********HELLO**********'"
      ]
     },
     "execution_count": 91,
     "metadata": {},
     "output_type": "execute_result"
    }
   ],
   "source": [
    "mystr.upper()"
   ]
  },
  {
   "cell_type": "code",
   "execution_count": 92,
   "id": "66205dd2-ff75-4c1a-990a-53c9da5ed13a",
   "metadata": {},
   "outputs": [
    {
     "data": {
      "text/plain": [
       "'**********Hillo**********'"
      ]
     },
     "execution_count": 92,
     "metadata": {},
     "output_type": "execute_result"
    }
   ],
   "source": [
    "mystr.replace(\"He\",\"Hi\")"
   ]
  },
  {
   "cell_type": "code",
   "execution_count": 93,
   "id": "789da380-dfd5-4ae4-9d21-42001f4abeaf",
   "metadata": {},
   "outputs": [
    {
     "data": {
      "text/plain": [
       "'$$$$$$$$$$Hello$$$$$$$$$$'"
      ]
     },
     "execution_count": 93,
     "metadata": {},
     "output_type": "execute_result"
    }
   ],
   "source": [
    "mystr.replace(\"*\",\"$\")"
   ]
  },
  {
   "cell_type": "code",
   "execution_count": 94,
   "id": "fbdf7eac-b412-40e3-814a-a16808615fc0",
   "metadata": {},
   "outputs": [],
   "source": [
    "mystr=\"one two one two three two one two four three\""
   ]
  },
  {
   "cell_type": "code",
   "execution_count": 96,
   "id": "68c83c6f-bfdb-4316-b2ef-5dc04fa4ccf6",
   "metadata": {},
   "outputs": [
    {
     "data": {
      "text/plain": [
       "1"
      ]
     },
     "execution_count": 96,
     "metadata": {},
     "output_type": "execute_result"
    }
   ],
   "source": [
    "mystr.count(\"four\")"
   ]
  },
  {
   "cell_type": "code",
   "execution_count": 97,
   "id": "f0546f87-a5e4-4634-ac7e-a17e8692eeed",
   "metadata": {},
   "outputs": [
    {
     "data": {
      "text/plain": [
       "0"
      ]
     },
     "execution_count": 97,
     "metadata": {},
     "output_type": "execute_result"
    }
   ],
   "source": [
    "mystr.count(\"five\")"
   ]
  },
  {
   "cell_type": "code",
   "execution_count": 98,
   "id": "058ac26a-3bb4-481e-8ab2-b06adc9999df",
   "metadata": {},
   "outputs": [
    {
     "data": {
      "text/plain": [
       "True"
      ]
     },
     "execution_count": 98,
     "metadata": {},
     "output_type": "execute_result"
    }
   ],
   "source": [
    "mystr.startswith(\"one\")"
   ]
  },
  {
   "cell_type": "code",
   "execution_count": 99,
   "id": "c6bab332-852f-4985-9483-c5a9d7cf24d8",
   "metadata": {},
   "outputs": [
    {
     "data": {
      "text/plain": [
       "False"
      ]
     },
     "execution_count": 99,
     "metadata": {},
     "output_type": "execute_result"
    }
   ],
   "source": [
    "mystr.startswith(\"three\")"
   ]
  },
  {
   "cell_type": "code",
   "execution_count": 100,
   "id": "8af470c7-1a8a-4304-8393-c398e32acfc5",
   "metadata": {},
   "outputs": [
    {
     "data": {
      "text/plain": [
       "True"
      ]
     },
     "execution_count": 100,
     "metadata": {},
     "output_type": "execute_result"
    }
   ],
   "source": [
    "mystr.endswith(\"three\")"
   ]
  },
  {
   "cell_type": "code",
   "execution_count": 101,
   "id": "20574484-25d5-49d5-92c8-5c37e718ebd1",
   "metadata": {},
   "outputs": [
    {
     "data": {
      "text/plain": [
       "['one', 'two', 'one', 'two', 'three', 'two', 'one', 'two', 'four', 'three']"
      ]
     },
     "execution_count": 101,
     "metadata": {},
     "output_type": "execute_result"
    }
   ],
   "source": [
    "mystr.split()"
   ]
  },
  {
   "cell_type": "code",
   "execution_count": 102,
   "id": "9868c17b-c0b7-4c7a-85d6-9851be05171c",
   "metadata": {},
   "outputs": [
    {
     "data": {
      "text/plain": [
       "'                                          Welcome Everyone                                          '"
      ]
     },
     "execution_count": 102,
     "metadata": {},
     "output_type": "execute_result"
    }
   ],
   "source": [
    "str=\"Welcome Everyone\"\n",
    "str.center(100)"
   ]
  },
  {
   "cell_type": "code",
   "execution_count": 103,
   "id": "c7d8a842-dab9-4aee-9976-7149ff2f2354",
   "metadata": {},
   "outputs": [
    {
     "data": {
      "text/plain": [
       "'******************************************Welcome Everyone******************************************'"
      ]
     },
     "execution_count": 103,
     "metadata": {},
     "output_type": "execute_result"
    }
   ],
   "source": [
    "str.center(100,'*')"
   ]
  },
  {
   "cell_type": "markdown",
   "id": "c1961eb9-0402-43e9-9974-f595d9e1e9ca",
   "metadata": {},
   "source": [
    "#### List"
   ]
  },
  {
   "cell_type": "code",
   "execution_count": 104,
   "id": "36fa2988-daa2-4222-b306-98247319a030",
   "metadata": {},
   "outputs": [
    {
     "data": {
      "text/plain": [
       "[1, 2, 6, 'hi', 'hello', 2.5]"
      ]
     },
     "execution_count": 104,
     "metadata": {},
     "output_type": "execute_result"
    }
   ],
   "source": [
    "list1=[1,2,6,\"hi\",\"hello\",2.5]\n",
    "list1"
   ]
  },
  {
   "cell_type": "code",
   "execution_count": 105,
   "id": "db0942f1-64aa-4f56-b86d-86d1c5686f17",
   "metadata": {},
   "outputs": [
    {
     "data": {
      "text/plain": [
       "list"
      ]
     },
     "execution_count": 105,
     "metadata": {},
     "output_type": "execute_result"
    }
   ],
   "source": [
    "type(list1)"
   ]
  },
  {
   "cell_type": "code",
   "execution_count": 107,
   "id": "3cd90413-4fd3-4568-a495-40c506d0f885",
   "metadata": {},
   "outputs": [
    {
     "data": {
      "text/plain": [
       "6"
      ]
     },
     "execution_count": 107,
     "metadata": {},
     "output_type": "execute_result"
    }
   ],
   "source": [
    "len(list1)"
   ]
  },
  {
   "cell_type": "code",
   "execution_count": 108,
   "id": "8d343a57-3bed-4744-b7ba-c01841c75bef",
   "metadata": {},
   "outputs": [
    {
     "data": {
      "text/plain": [
       "1"
      ]
     },
     "execution_count": 108,
     "metadata": {},
     "output_type": "execute_result"
    }
   ],
   "source": [
    "list1[0]"
   ]
  },
  {
   "cell_type": "code",
   "execution_count": 109,
   "id": "8acc0f89-e24c-4da1-b88e-845ecc85fc11",
   "metadata": {},
   "outputs": [
    {
     "data": {
      "text/plain": [
       "2.5"
      ]
     },
     "execution_count": 109,
     "metadata": {},
     "output_type": "execute_result"
    }
   ],
   "source": [
    "list1[-1]"
   ]
  },
  {
   "cell_type": "code",
   "execution_count": 110,
   "id": "ac0f1a37-e296-40ff-9204-97862c55047d",
   "metadata": {},
   "outputs": [
    {
     "data": {
      "text/plain": [
       "[2, 6]"
      ]
     },
     "execution_count": 110,
     "metadata": {},
     "output_type": "execute_result"
    }
   ],
   "source": [
    "list1[1:3]"
   ]
  },
  {
   "cell_type": "code",
   "execution_count": 111,
   "id": "34eef821-0199-4774-8900-567dd94d98fb",
   "metadata": {},
   "outputs": [
    {
     "data": {
      "text/plain": [
       "[]"
      ]
     },
     "execution_count": 111,
     "metadata": {},
     "output_type": "execute_result"
    }
   ],
   "source": [
    "list1[-1:-3]"
   ]
  },
  {
   "cell_type": "code",
   "execution_count": 112,
   "id": "06330220-0ff7-4700-ae7e-316d8553ab1f",
   "metadata": {},
   "outputs": [
    {
     "data": {
      "text/plain": [
       "['hi', 'hello']"
      ]
     },
     "execution_count": 112,
     "metadata": {},
     "output_type": "execute_result"
    }
   ],
   "source": [
    "list1[-3:-1]"
   ]
  },
  {
   "cell_type": "code",
   "execution_count": 113,
   "id": "b186e995-1c2a-4273-8cbf-35abab9cd599",
   "metadata": {},
   "outputs": [
    {
     "data": {
      "text/plain": [
       "[1, 2, 6, 'hi', 'hello', 2.5]"
      ]
     },
     "execution_count": 113,
     "metadata": {},
     "output_type": "execute_result"
    }
   ],
   "source": [
    "list1[0:]"
   ]
  },
  {
   "cell_type": "code",
   "execution_count": 114,
   "id": "5c25e95b-6e49-4f50-a775-6f552ee65869",
   "metadata": {},
   "outputs": [
    {
     "data": {
      "text/plain": [
       "[6, 'hi', 'hello', 2.5]"
      ]
     },
     "execution_count": 114,
     "metadata": {},
     "output_type": "execute_result"
    }
   ],
   "source": [
    "list1[2:]"
   ]
  },
  {
   "cell_type": "code",
   "execution_count": 115,
   "id": "45fefcc2-bdbe-4359-baa8-ab581364f221",
   "metadata": {},
   "outputs": [
    {
     "data": {
      "text/plain": [
       "[1, 2, 6]"
      ]
     },
     "execution_count": 115,
     "metadata": {},
     "output_type": "execute_result"
    }
   ],
   "source": [
    "list1[:3]"
   ]
  },
  {
   "cell_type": "code",
   "execution_count": 116,
   "id": "a70e50a5-c696-4306-8784-3d3abca992a7",
   "metadata": {},
   "outputs": [
    {
     "data": {
      "text/plain": [
       "[1, 2, 6, 'hi', 'hello', 2.5]"
      ]
     },
     "execution_count": 116,
     "metadata": {},
     "output_type": "execute_result"
    }
   ],
   "source": [
    "list1[:]"
   ]
  },
  {
   "cell_type": "code",
   "execution_count": 117,
   "id": "16ef9800-da15-444c-9f1f-bbc04a9bd77f",
   "metadata": {},
   "outputs": [
    {
     "data": {
      "text/plain": [
       "[100, 2, 6, 'hi', 'hello', 2.5]"
      ]
     },
     "execution_count": 117,
     "metadata": {},
     "output_type": "execute_result"
    }
   ],
   "source": [
    "list1[0]=100\n",
    "list1"
   ]
  },
  {
   "cell_type": "markdown",
   "id": "7bc0b751-e6b7-4eed-a9b8-7f970355c711",
   "metadata": {},
   "source": [
    "##### Elements seperated by comma and it is heterogenous\n",
    "##### Square bracket\n",
    "##### retrieved using index\n",
    "##### Mutable-Make changes"
   ]
  },
  {
   "cell_type": "code",
   "execution_count": 118,
   "id": "987ebe93-a4f3-488e-8a01-796508c0ed65",
   "metadata": {},
   "outputs": [],
   "source": [
    "list1.append(\"latha\")"
   ]
  },
  {
   "cell_type": "code",
   "execution_count": 119,
   "id": "459c17b5-4a0a-4a79-96cc-546d4a3a640a",
   "metadata": {},
   "outputs": [
    {
     "data": {
      "text/plain": [
       "[100, 2, 6, 'hi', 'hello', 2.5, 'latha']"
      ]
     },
     "execution_count": 119,
     "metadata": {},
     "output_type": "execute_result"
    }
   ],
   "source": [
    "list1"
   ]
  },
  {
   "cell_type": "code",
   "execution_count": 120,
   "id": "77a27d89-a62e-4ed3-8d67-17505fc46ddd",
   "metadata": {},
   "outputs": [
    {
     "data": {
      "text/plain": [
       "[100, 2, 6, 'hi', 'hello', 2.5, 'latha', 1]"
      ]
     },
     "execution_count": 120,
     "metadata": {},
     "output_type": "execute_result"
    }
   ],
   "source": [
    "list1.append(1)\n",
    "list1"
   ]
  },
  {
   "cell_type": "code",
   "execution_count": 121,
   "id": "a9bcb2f6-549c-44df-88b4-ac66b9b0f55e",
   "metadata": {},
   "outputs": [
    {
     "data": {
      "text/plain": [
       "[3, 100, 2, 6, 'hi', 'hello', 2.5, 'latha', 1]"
      ]
     },
     "execution_count": 121,
     "metadata": {},
     "output_type": "execute_result"
    }
   ],
   "source": [
    "list1.insert(0,3)\n",
    "list1"
   ]
  },
  {
   "cell_type": "code",
   "execution_count": 122,
   "id": "884a80cb-32bf-49ad-91af-1090204e75f2",
   "metadata": {},
   "outputs": [],
   "source": [
    "list1.remove(3)"
   ]
  },
  {
   "cell_type": "code",
   "execution_count": 123,
   "id": "36ac384e-15bf-4d79-be16-a7d8facfc562",
   "metadata": {},
   "outputs": [
    {
     "data": {
      "text/plain": [
       "[100, 2, 6, 'hi', 'hello', 2.5, 'latha', 1]"
      ]
     },
     "execution_count": 123,
     "metadata": {},
     "output_type": "execute_result"
    }
   ],
   "source": [
    "list1"
   ]
  },
  {
   "cell_type": "code",
   "execution_count": 124,
   "id": "201e36a3-4b40-41c5-b908-5750c465144a",
   "metadata": {},
   "outputs": [
    {
     "data": {
      "text/plain": [
       "[100, 2, 6, 'hello', 2.5, 'latha', 1]"
      ]
     },
     "execution_count": 124,
     "metadata": {},
     "output_type": "execute_result"
    }
   ],
   "source": [
    "list1.remove(\"hi\")\n",
    "list1"
   ]
  },
  {
   "cell_type": "code",
   "execution_count": 126,
   "id": "6983db98-f051-4b02-a07e-d4684f65b063",
   "metadata": {},
   "outputs": [
    {
     "data": {
      "text/plain": [
       "[100, 2, 6, 'hello', 2.5, 'latha']"
      ]
     },
     "execution_count": 126,
     "metadata": {},
     "output_type": "execute_result"
    }
   ],
   "source": [
    "list1.pop()\n",
    "list1"
   ]
  },
  {
   "cell_type": "code",
   "execution_count": 127,
   "id": "70027107-7547-41b7-90b2-b3ea1238b330",
   "metadata": {},
   "outputs": [
    {
     "data": {
      "text/plain": [
       "[100, 2, 6, 'hello', 'latha']"
      ]
     },
     "execution_count": 127,
     "metadata": {},
     "output_type": "execute_result"
    }
   ],
   "source": [
    "list1.pop(-2)\n",
    "list1"
   ]
  },
  {
   "cell_type": "code",
   "execution_count": 128,
   "id": "fac060c2-b20b-4dba-a3ea-1e1af7380f70",
   "metadata": {},
   "outputs": [
    {
     "data": {
      "text/plain": [
       "[]"
      ]
     },
     "execution_count": 128,
     "metadata": {},
     "output_type": "execute_result"
    }
   ],
   "source": [
    "list1.clear()\n",
    "list1"
   ]
  },
  {
   "cell_type": "code",
   "execution_count": 129,
   "id": "2c6f4086-f94e-4777-bf58-67a39532c2c3",
   "metadata": {},
   "outputs": [
    {
     "data": {
      "text/plain": [
       "[1, 2, 6, 'hi', 'hello', 2.5]"
      ]
     },
     "execution_count": 129,
     "metadata": {},
     "output_type": "execute_result"
    }
   ],
   "source": [
    "list1=[1,2,6,\"hi\",\"hello\",2.5]\n",
    "list1"
   ]
  },
  {
   "cell_type": "code",
   "execution_count": 130,
   "id": "f0f1b770-a7da-4624-8b13-40419e8b20cd",
   "metadata": {},
   "outputs": [
    {
     "data": {
      "text/plain": [
       "[1, 2, 6, 'hi', 'hello', 2.5]"
      ]
     },
     "execution_count": 130,
     "metadata": {},
     "output_type": "execute_result"
    }
   ],
   "source": [
    "mylist=list1\n",
    "mylist"
   ]
  },
  {
   "cell_type": "code",
   "execution_count": 131,
   "id": "e3fa8547-08eb-4f5f-b0f2-63c109a86d46",
   "metadata": {},
   "outputs": [
    {
     "data": {
      "text/plain": [
       "[1, 2, 6, 'hi', 'hello', 2.5]"
      ]
     },
     "execution_count": 131,
     "metadata": {},
     "output_type": "execute_result"
    }
   ],
   "source": [
    "mylist1=mylist.copy()\n",
    "mylist1"
   ]
  },
  {
   "cell_type": "code",
   "execution_count": 132,
   "id": "5a78bca2-7187-4fba-9567-74c707229f1f",
   "metadata": {},
   "outputs": [
    {
     "data": {
      "text/plain": [
       "[1, 2, 6, 'hi', 'hello', 2.5, 1, 2, 6, 'hi', 'hello', 2.5]"
      ]
     },
     "execution_count": 132,
     "metadata": {},
     "output_type": "execute_result"
    }
   ],
   "source": [
    "mylist+mylist1"
   ]
  },
  {
   "cell_type": "code",
   "execution_count": 133,
   "id": "417a5582-8ba0-4c45-b5da-3554d4e155a7",
   "metadata": {},
   "outputs": [
    {
     "name": "stdout",
     "output_type": "stream",
     "text": [
      "True\n"
     ]
    }
   ],
   "source": [
    "print(2 in list1)"
   ]
  },
  {
   "cell_type": "code",
   "execution_count": 134,
   "id": "9f1362a7-9850-4950-9722-d7db89971f6b",
   "metadata": {},
   "outputs": [
    {
     "name": "stdout",
     "output_type": "stream",
     "text": [
      "False\n"
     ]
    }
   ],
   "source": [
    "print(100 in list1)"
   ]
  },
  {
   "cell_type": "code",
   "execution_count": 135,
   "id": "f7296666-5c3e-4c99-b025-b35c62a4f7dc",
   "metadata": {},
   "outputs": [],
   "source": [
    "list1.reverse()"
   ]
  },
  {
   "cell_type": "code",
   "execution_count": 136,
   "id": "c4f42592-c7a2-459d-9a9f-50452bf33513",
   "metadata": {},
   "outputs": [
    {
     "data": {
      "text/plain": [
       "[2.5, 'hello', 'hi', 6, 2, 1]"
      ]
     },
     "execution_count": 136,
     "metadata": {},
     "output_type": "execute_result"
    }
   ],
   "source": [
    "list1"
   ]
  },
  {
   "cell_type": "code",
   "execution_count": 137,
   "id": "19d2062e-8fad-43a9-beab-08f10235a631",
   "metadata": {},
   "outputs": [
    {
     "ename": "TypeError",
     "evalue": "'<' not supported between instances of 'str' and 'float'",
     "output_type": "error",
     "traceback": [
      "\u001b[1;31m---------------------------------------------------------------------------\u001b[0m",
      "\u001b[1;31mTypeError\u001b[0m                                 Traceback (most recent call last)",
      "Cell \u001b[1;32mIn[137], line 1\u001b[0m\n\u001b[1;32m----> 1\u001b[0m list1\u001b[38;5;241m.\u001b[39msort()\n\u001b[0;32m      2\u001b[0m list1\n",
      "\u001b[1;31mTypeError\u001b[0m: '<' not supported between instances of 'str' and 'float'"
     ]
    }
   ],
   "source": [
    "list1.sort()\n",
    "list1"
   ]
  },
  {
   "cell_type": "code",
   "execution_count": 138,
   "id": "55e37f08-bdb0-4628-b90a-d7b1b450245d",
   "metadata": {},
   "outputs": [
    {
     "data": {
      "text/plain": [
       "[2.8, 12, 15, 86, 100]"
      ]
     },
     "execution_count": 138,
     "metadata": {},
     "output_type": "execute_result"
    }
   ],
   "source": [
    "list2=[15,12,2.8,86,100]\n",
    "list2.sort()\n",
    "list2"
   ]
  },
  {
   "cell_type": "code",
   "execution_count": 139,
   "id": "5caa6456-2424-4aca-b1c1-627f66974f6e",
   "metadata": {},
   "outputs": [
    {
     "name": "stdout",
     "output_type": "stream",
     "text": [
      "2.8\n",
      "12\n",
      "15\n",
      "86\n",
      "100\n"
     ]
    }
   ],
   "source": [
    "for i in list2:\n",
    "    print(i)"
   ]
  },
  {
   "cell_type": "markdown",
   "id": "b40ef833-82af-4c3b-ae5e-59aee86fe1cd",
   "metadata": {},
   "source": [
    "### Tuple"
   ]
  },
  {
   "cell_type": "code",
   "execution_count": 141,
   "id": "41edc172-6f30-41db-aa26-9e40791a4b00",
   "metadata": {},
   "outputs": [
    {
     "data": {
      "text/plain": [
       "(1, 2, 6, 'hi', 'hello', 2.5)"
      ]
     },
     "execution_count": 141,
     "metadata": {},
     "output_type": "execute_result"
    }
   ],
   "source": [
    "tup1=(1,2,6,\"hi\",\"hello\",2.5)\n",
    "tup1"
   ]
  },
  {
   "cell_type": "code",
   "execution_count": 142,
   "id": "9a62dbf0-ccb8-473e-9fd4-c0f2c66c81dc",
   "metadata": {},
   "outputs": [
    {
     "data": {
      "text/plain": [
       "tuple"
      ]
     },
     "execution_count": 142,
     "metadata": {},
     "output_type": "execute_result"
    }
   ],
   "source": [
    "type(tup1)"
   ]
  },
  {
   "cell_type": "markdown",
   "id": "c69cc1c1-5921-4621-bcbf-6661e843767e",
   "metadata": {},
   "source": [
    "### indexing"
   ]
  },
  {
   "cell_type": "code",
   "execution_count": 143,
   "id": "dc175423-3d75-4a7d-8c41-ecce29b59708",
   "metadata": {},
   "outputs": [
    {
     "data": {
      "text/plain": [
       "2"
      ]
     },
     "execution_count": 143,
     "metadata": {},
     "output_type": "execute_result"
    }
   ],
   "source": [
    "tup1[1]"
   ]
  },
  {
   "cell_type": "code",
   "execution_count": 145,
   "id": "0a1c6c4e-f92e-4054-a497-d5cd4b7957f3",
   "metadata": {},
   "outputs": [
    {
     "ename": "IndexError",
     "evalue": "tuple index out of range",
     "output_type": "error",
     "traceback": [
      "\u001b[1;31m---------------------------------------------------------------------------\u001b[0m",
      "\u001b[1;31mIndexError\u001b[0m                                Traceback (most recent call last)",
      "Cell \u001b[1;32mIn[145], line 1\u001b[0m\n\u001b[1;32m----> 1\u001b[0m tup1[\u001b[38;5;241m100\u001b[39m]\n",
      "\u001b[1;31mIndexError\u001b[0m: tuple index out of range"
     ]
    }
   ],
   "source": [
    "tup1[100]"
   ]
  },
  {
   "cell_type": "markdown",
   "id": "7399f0ef-86bc-4386-a60e-fb74f8eafb52",
   "metadata": {},
   "source": [
    "### slicing"
   ]
  },
  {
   "cell_type": "code",
   "execution_count": 146,
   "id": "9fd29890-468c-4f7b-aea7-793a583a14c7",
   "metadata": {},
   "outputs": [
    {
     "data": {
      "text/plain": [
       "(1, 2)"
      ]
     },
     "execution_count": 146,
     "metadata": {},
     "output_type": "execute_result"
    }
   ],
   "source": [
    "tup1[0:2]"
   ]
  },
  {
   "cell_type": "markdown",
   "id": "756bb47e-2e48-4d01-8b5e-eae46194bf41",
   "metadata": {},
   "source": [
    "### iterating"
   ]
  },
  {
   "cell_type": "code",
   "execution_count": 147,
   "id": "73ede7c4-d34e-4eb6-b289-edc56ac1623a",
   "metadata": {},
   "outputs": [
    {
     "name": "stdout",
     "output_type": "stream",
     "text": [
      "1\n",
      "2\n",
      "6\n",
      "hi\n",
      "hello\n",
      "2.5\n"
     ]
    }
   ],
   "source": [
    "for i in tup1:\n",
    "    print(i)"
   ]
  },
  {
   "cell_type": "markdown",
   "id": "da6e4b29-9697-4c31-b49f-ad21cc10fb88",
   "metadata": {},
   "source": [
    "### mutable"
   ]
  },
  {
   "cell_type": "code",
   "execution_count": 148,
   "id": "29ecaef5-e286-4bcb-943b-eda99d9b430d",
   "metadata": {},
   "outputs": [
    {
     "ename": "TypeError",
     "evalue": "'tuple' object does not support item assignment",
     "output_type": "error",
     "traceback": [
      "\u001b[1;31m---------------------------------------------------------------------------\u001b[0m",
      "\u001b[1;31mTypeError\u001b[0m                                 Traceback (most recent call last)",
      "Cell \u001b[1;32mIn[148], line 1\u001b[0m\n\u001b[1;32m----> 1\u001b[0m tup1[\u001b[38;5;241m0\u001b[39m]\u001b[38;5;241m=\u001b[39m\u001b[38;5;241m100\u001b[39m\n\u001b[0;32m      2\u001b[0m tup1\n",
      "\u001b[1;31mTypeError\u001b[0m: 'tuple' object does not support item assignment"
     ]
    }
   ],
   "source": [
    "tup1[0]=100\n",
    "tup1"
   ]
  },
  {
   "cell_type": "code",
   "execution_count": 150,
   "id": "3e9d6ccb-541d-41de-9106-3515f3a11f1c",
   "metadata": {},
   "outputs": [
    {
     "data": {
      "text/plain": [
       "1"
      ]
     },
     "execution_count": 150,
     "metadata": {},
     "output_type": "execute_result"
    }
   ],
   "source": [
    "tup1.count(2.5)"
   ]
  },
  {
   "cell_type": "code",
   "execution_count": 151,
   "id": "19062907-67c9-4736-b22c-b831ce4c2ce8",
   "metadata": {},
   "outputs": [
    {
     "data": {
      "text/plain": [
       "6"
      ]
     },
     "execution_count": 151,
     "metadata": {},
     "output_type": "execute_result"
    }
   ],
   "source": [
    "len(tup1)"
   ]
  },
  {
   "cell_type": "code",
   "execution_count": 153,
   "id": "1e582d83-3e26-4c6e-93f9-afeea42bc33d",
   "metadata": {},
   "outputs": [
    {
     "name": "stdout",
     "output_type": "stream",
     "text": [
      "True\n"
     ]
    }
   ],
   "source": [
    "print(1 in tup1)"
   ]
  },
  {
   "cell_type": "code",
   "execution_count": 154,
   "id": "0828c914-22db-4638-ab6d-dd510418d802",
   "metadata": {},
   "outputs": [
    {
     "name": "stdout",
     "output_type": "stream",
     "text": [
      "False\n"
     ]
    }
   ],
   "source": [
    "print(100 in tup1)"
   ]
  },
  {
   "cell_type": "code",
   "execution_count": 155,
   "id": "80750c68-1792-4adf-902d-3d76c7a7a7c3",
   "metadata": {},
   "outputs": [
    {
     "ename": "AttributeError",
     "evalue": "'tuple' object has no attribute 'sort'",
     "output_type": "error",
     "traceback": [
      "\u001b[1;31m---------------------------------------------------------------------------\u001b[0m",
      "\u001b[1;31mAttributeError\u001b[0m                            Traceback (most recent call last)",
      "Cell \u001b[1;32mIn[155], line 1\u001b[0m\n\u001b[1;32m----> 1\u001b[0m tup1\u001b[38;5;241m.\u001b[39msort()\n",
      "\u001b[1;31mAttributeError\u001b[0m: 'tuple' object has no attribute 'sort'"
     ]
    }
   ],
   "source": [
    "tup1.sort()"
   ]
  },
  {
   "cell_type": "code",
   "execution_count": 156,
   "id": "f7075095-928c-468b-9f24-869aa8fe94aa",
   "metadata": {},
   "outputs": [
    {
     "ename": "AttributeError",
     "evalue": "'tuple' object has no attribute 'reverse'",
     "output_type": "error",
     "traceback": [
      "\u001b[1;31m---------------------------------------------------------------------------\u001b[0m",
      "\u001b[1;31mAttributeError\u001b[0m                            Traceback (most recent call last)",
      "Cell \u001b[1;32mIn[156], line 1\u001b[0m\n\u001b[1;32m----> 1\u001b[0m tup1\u001b[38;5;241m.\u001b[39mreverse()\n",
      "\u001b[1;31mAttributeError\u001b[0m: 'tuple' object has no attribute 'reverse'"
     ]
    }
   ],
   "source": [
    "tup1.reverse()"
   ]
  },
  {
   "cell_type": "code",
   "execution_count": null,
   "id": "ec971486-bfbf-41c4-84aa-4f51e7be9c25",
   "metadata": {},
   "outputs": [],
   "source": [
    "### How can I make the tuple mutable?"
   ]
  },
  {
   "cell_type": "code",
   "execution_count": 157,
   "id": "e3c11128-39fc-468c-98ac-c774def984ff",
   "metadata": {},
   "outputs": [
    {
     "data": {
      "text/plain": [
       "[1, 2, 6, 'hi', 'hello', 2.5]"
      ]
     },
     "execution_count": 157,
     "metadata": {},
     "output_type": "execute_result"
    }
   ],
   "source": [
    "mytup=list(tup1)\n",
    "mytup"
   ]
  },
  {
   "cell_type": "code",
   "execution_count": 158,
   "id": "be0e7645-5bc6-4b90-b7fb-47c4f72ef870",
   "metadata": {},
   "outputs": [
    {
     "data": {
      "text/plain": [
       "[1, 2, 6, 'hi', 'hello', 2.5, 100]"
      ]
     },
     "execution_count": 158,
     "metadata": {},
     "output_type": "execute_result"
    }
   ],
   "source": [
    "mytup.append(100)\n",
    "mytup"
   ]
  },
  {
   "cell_type": "markdown",
   "id": "c2d89a2a-cdf2-446a-b6ba-6f44756bd012",
   "metadata": {},
   "source": [
    "#### Tuple is immutable\n",
    "#### heterogenous\n",
    "#### paranthesis\n",
    "#### retrieve through index\n"
   ]
  },
  {
   "cell_type": "markdown",
   "id": "66c607ed-4366-40cb-9eea-3efc7b6705cb",
   "metadata": {},
   "source": [
    "### Dictionary"
   ]
  },
  {
   "cell_type": "code",
   "execution_count": 159,
   "id": "304db005-b0ab-4d55-8166-09945f4f9e8c",
   "metadata": {},
   "outputs": [
    {
     "data": {
      "text/plain": [
       "{1: 'one', 2: 'hi', 'three': 3, 5: 'one'}"
      ]
     },
     "execution_count": 159,
     "metadata": {},
     "output_type": "execute_result"
    }
   ],
   "source": [
    "mydict={1:\"one\",2:\"two\",\"three\":3,2:\"hi\",5:\"one\"}\n",
    "mydict"
   ]
  },
  {
   "cell_type": "code",
   "execution_count": 160,
   "id": "f5b39b15-8274-4051-91bf-f3c3641c627a",
   "metadata": {},
   "outputs": [
    {
     "data": {
      "text/plain": [
       "dict_keys([1, 2, 'three', 5])"
      ]
     },
     "execution_count": 160,
     "metadata": {},
     "output_type": "execute_result"
    }
   ],
   "source": [
    "mydict.keys()"
   ]
  },
  {
   "cell_type": "code",
   "execution_count": 161,
   "id": "568c0ced-26b0-43a1-b416-4eba9b6b7d5d",
   "metadata": {},
   "outputs": [
    {
     "data": {
      "text/plain": [
       "dict_values(['one', 'hi', 3, 'one'])"
      ]
     },
     "execution_count": 161,
     "metadata": {},
     "output_type": "execute_result"
    }
   ],
   "source": [
    "mydict.values()"
   ]
  },
  {
   "cell_type": "code",
   "execution_count": 162,
   "id": "3da30ac9-5261-4aa8-aece-47b4e3f0a9cc",
   "metadata": {},
   "outputs": [
    {
     "data": {
      "text/plain": [
       "dict_items([(1, 'one'), (2, 'hi'), ('three', 3), (5, 'one')])"
      ]
     },
     "execution_count": 162,
     "metadata": {},
     "output_type": "execute_result"
    }
   ],
   "source": [
    "mydict.items()"
   ]
  },
  {
   "cell_type": "code",
   "execution_count": 163,
   "id": "1b7fb775-0db5-4050-ac7c-2e0c9e52a9f7",
   "metadata": {},
   "outputs": [
    {
     "data": {
      "text/plain": [
       "{1: 'one', 2: 'hi', 'three': 3, 5: ['one', 'two', 'three']}"
      ]
     },
     "execution_count": 163,
     "metadata": {},
     "output_type": "execute_result"
    }
   ],
   "source": [
    "mydict1={1:\"one\",2:\"two\",\"three\":3,2:\"hi\",5:[\"one\",\"two\",\"three\"]}\n",
    "mydict1"
   ]
  },
  {
   "cell_type": "code",
   "execution_count": 166,
   "id": "6b8e1130-c054-4286-9a92-03bafc618dae",
   "metadata": {},
   "outputs": [
    {
     "data": {
      "text/plain": [
       "['one', 'two', 'three']"
      ]
     },
     "execution_count": 166,
     "metadata": {},
     "output_type": "execute_result"
    }
   ],
   "source": [
    "mydict1[5]"
   ]
  },
  {
   "cell_type": "code",
   "execution_count": 167,
   "id": "35b48256-0cb9-43d9-878f-7234e9aea345",
   "metadata": {},
   "outputs": [
    {
     "data": {
      "text/plain": [
       "3"
      ]
     },
     "execution_count": 167,
     "metadata": {},
     "output_type": "execute_result"
    }
   ],
   "source": [
    "mydict1[\"three\"]"
   ]
  },
  {
   "cell_type": "code",
   "execution_count": 169,
   "id": "644b01d7-b20a-4f23-b707-1bfbfb874604",
   "metadata": {},
   "outputs": [
    {
     "ename": "KeyError",
     "evalue": "'one'",
     "output_type": "error",
     "traceback": [
      "\u001b[1;31m---------------------------------------------------------------------------\u001b[0m",
      "\u001b[1;31mKeyError\u001b[0m                                  Traceback (most recent call last)",
      "Cell \u001b[1;32mIn[169], line 1\u001b[0m\n\u001b[1;32m----> 1\u001b[0m mydict1[\u001b[38;5;124m\"\u001b[39m\u001b[38;5;124mone\u001b[39m\u001b[38;5;124m\"\u001b[39m]\n",
      "\u001b[1;31mKeyError\u001b[0m: 'one'"
     ]
    }
   ],
   "source": [
    "mydict1[\"one\"]"
   ]
  },
  {
   "cell_type": "code",
   "execution_count": 170,
   "id": "b872a5b2-07ac-4a1f-8145-a311849cbc54",
   "metadata": {},
   "outputs": [],
   "source": [
    "mydict1[\"Name\"]=\"Latha\""
   ]
  },
  {
   "cell_type": "code",
   "execution_count": 171,
   "id": "3b69e660-8d34-47c9-ace1-4c1f8d149b9b",
   "metadata": {},
   "outputs": [
    {
     "data": {
      "text/plain": [
       "{1: 'one', 2: 'hi', 'three': 3, 5: ['one', 'two', 'three'], 'Name': 'Latha'}"
      ]
     },
     "execution_count": 171,
     "metadata": {},
     "output_type": "execute_result"
    }
   ],
   "source": [
    "mydict1"
   ]
  },
  {
   "cell_type": "code",
   "execution_count": 172,
   "id": "1d5c7e43-d1d6-4067-90ae-cc0cbaaad7d2",
   "metadata": {},
   "outputs": [
    {
     "data": {
      "text/plain": [
       "dict_keys([1, 2, 'three', 5, 'Name'])"
      ]
     },
     "execution_count": 172,
     "metadata": {},
     "output_type": "execute_result"
    }
   ],
   "source": [
    "mydict1.keys()"
   ]
  },
  {
   "cell_type": "code",
   "execution_count": 173,
   "id": "e1144a36-61fa-4234-9aa4-9376ab1501a7",
   "metadata": {},
   "outputs": [
    {
     "data": {
      "text/plain": [
       "{1: 'Python', 2: 'hi', 'three': 3, 5: ['one', 'two', 'three'], 'Name': 'Latha'}"
      ]
     },
     "execution_count": 173,
     "metadata": {},
     "output_type": "execute_result"
    }
   ],
   "source": [
    "mydict1[1]=\"Python\"\n",
    "mydict1"
   ]
  },
  {
   "cell_type": "code",
   "execution_count": 174,
   "id": "8b880454-6f81-4eee-8116-0ec7bf2c5aca",
   "metadata": {},
   "outputs": [
    {
     "data": {
      "text/plain": [
       "{2: 'hi', 'three': 3, 5: ['one', 'two', 'three'], 'Name': 'Latha'}"
      ]
     },
     "execution_count": 174,
     "metadata": {},
     "output_type": "execute_result"
    }
   ],
   "source": [
    "mydict1.pop(1)\n",
    "mydict1"
   ]
  },
  {
   "cell_type": "code",
   "execution_count": null,
   "id": "7152c86b-8dd9-4914-b871-8e41d37cf69f",
   "metadata": {},
   "outputs": [],
   "source": [
    "### Create a dictionary\n",
    "Name\n",
    "DOB\n",
    "Qual\n",
    "Exper\n",
    "Address"
   ]
  },
  {
   "cell_type": "markdown",
   "id": "870273ae-461c-428f-b6da-0154d3c5edea",
   "metadata": {},
   "source": [
    "#### Dictionary-Key value pair DS\n",
    "#### Key is unique\n",
    "#### Values can be duplicated\n",
    "#### We can retrieve the value using Key"
   ]
  },
  {
   "cell_type": "markdown",
   "id": "2c905197-11d2-4d9a-bede-617b599983f3",
   "metadata": {},
   "source": [
    "### Operators"
   ]
  },
  {
   "cell_type": "markdown",
   "id": "0344e584-8287-431b-acfd-3fae859d4ee2",
   "metadata": {},
   "source": [
    "#### Arithmetic Operators"
   ]
  },
  {
   "cell_type": "code",
   "execution_count": 185,
   "id": "343c95bc-5a1b-4eee-8e27-4d95aa3a6da8",
   "metadata": {},
   "outputs": [
    {
     "data": {
      "text/plain": [
       "9.0"
      ]
     },
     "execution_count": 185,
     "metadata": {},
     "output_type": "execute_result"
    }
   ],
   "source": [
    "a=6.0\n",
    "b=3\n",
    "c=a+b\n",
    "c"
   ]
  },
  {
   "cell_type": "code",
   "execution_count": 176,
   "id": "5a042828-e5b8-480d-9f45-fa997dbd6b3f",
   "metadata": {},
   "outputs": [
    {
     "data": {
      "text/plain": [
       "'PremaLatha'"
      ]
     },
     "execution_count": 176,
     "metadata": {},
     "output_type": "execute_result"
    }
   ],
   "source": [
    "x=\"Prema\"\n",
    "y=\"Latha\"\n",
    "name=x+y\n",
    "name"
   ]
  },
  {
   "cell_type": "code",
   "execution_count": 186,
   "id": "6fd4a971-2321-4ac5-a03f-117dd35b0cdf",
   "metadata": {},
   "outputs": [
    {
     "data": {
      "text/plain": [
       "3.0"
      ]
     },
     "execution_count": 186,
     "metadata": {},
     "output_type": "execute_result"
    }
   ],
   "source": [
    "d=a-b\n",
    "d"
   ]
  },
  {
   "cell_type": "code",
   "execution_count": 187,
   "id": "5f9a142c-f518-4418-b8f1-987647545048",
   "metadata": {},
   "outputs": [
    {
     "data": {
      "text/plain": [
       "18.0"
      ]
     },
     "execution_count": 187,
     "metadata": {},
     "output_type": "execute_result"
    }
   ],
   "source": [
    "e=a*b\n",
    "e"
   ]
  },
  {
   "cell_type": "code",
   "execution_count": 188,
   "id": "f2125098-a5c7-41a4-a7d0-2e57bc6810c5",
   "metadata": {},
   "outputs": [
    {
     "data": {
      "text/plain": [
       "2.0"
      ]
     },
     "execution_count": 188,
     "metadata": {},
     "output_type": "execute_result"
    }
   ],
   "source": [
    "f=a/b\n",
    "f"
   ]
  },
  {
   "cell_type": "code",
   "execution_count": 191,
   "id": "8bf23005-a94d-4e08-a3ad-374d6c1ce841",
   "metadata": {},
   "outputs": [
    {
     "ename": "TypeError",
     "evalue": "unsupported operand type(s) for /: 'str' and 'str'",
     "output_type": "error",
     "traceback": [
      "\u001b[1;31m---------------------------------------------------------------------------\u001b[0m",
      "\u001b[1;31mTypeError\u001b[0m                                 Traceback (most recent call last)",
      "Cell \u001b[1;32mIn[191], line 3\u001b[0m\n\u001b[0;32m      1\u001b[0m x\u001b[38;5;241m=\u001b[39m\u001b[38;5;124m\"\u001b[39m\u001b[38;5;124mPrema\u001b[39m\u001b[38;5;124m\"\u001b[39m\n\u001b[0;32m      2\u001b[0m y\u001b[38;5;241m=\u001b[39m\u001b[38;5;124m\"\u001b[39m\u001b[38;5;124mLatha\u001b[39m\u001b[38;5;124m\"\u001b[39m\n\u001b[1;32m----> 3\u001b[0m name\u001b[38;5;241m=\u001b[39mx\u001b[38;5;241m/\u001b[39my\n\u001b[0;32m      4\u001b[0m name\n",
      "\u001b[1;31mTypeError\u001b[0m: unsupported operand type(s) for /: 'str' and 'str'"
     ]
    }
   ],
   "source": [
    "x=\"Prema\"\n",
    "y=\"Latha\"\n",
    "name=x/y\n",
    "name"
   ]
  },
  {
   "cell_type": "code",
   "execution_count": 193,
   "id": "1a37d666-994e-48c8-9094-07b5e3e06a88",
   "metadata": {},
   "outputs": [
    {
     "name": "stdout",
     "output_type": "stream",
     "text": [
      "6.0\n",
      "3\n"
     ]
    }
   ],
   "source": [
    "print(a)\n",
    "print(b)"
   ]
  },
  {
   "cell_type": "code",
   "execution_count": 192,
   "id": "a3057b12-34a1-4d00-97f2-12937fed96f6",
   "metadata": {},
   "outputs": [
    {
     "data": {
      "text/plain": [
       "216.0"
      ]
     },
     "execution_count": 192,
     "metadata": {},
     "output_type": "execute_result"
    }
   ],
   "source": [
    "c=a**b   ### power\n",
    "c"
   ]
  },
  {
   "cell_type": "code",
   "execution_count": 194,
   "id": "9587fb2f-e047-49fc-9a84-5b78eac8ad28",
   "metadata": {},
   "outputs": [
    {
     "data": {
      "text/plain": [
       "0.0"
      ]
     },
     "execution_count": 194,
     "metadata": {},
     "output_type": "execute_result"
    }
   ],
   "source": [
    "c=a%b\n",
    "c"
   ]
  },
  {
   "cell_type": "code",
   "execution_count": 198,
   "id": "450cb0c2-ad24-4807-b016-bfa374375b3f",
   "metadata": {},
   "outputs": [
    {
     "data": {
      "text/plain": [
       "2"
      ]
     },
     "execution_count": 198,
     "metadata": {},
     "output_type": "execute_result"
    }
   ],
   "source": [
    "a=8\n",
    "b=3\n",
    "c=a%b\n",
    "c"
   ]
  },
  {
   "cell_type": "code",
   "execution_count": 202,
   "id": "e4033de1-153f-413f-8722-826e55460f09",
   "metadata": {},
   "outputs": [
    {
     "data": {
      "text/plain": [
       "5"
      ]
     },
     "execution_count": 202,
     "metadata": {},
     "output_type": "execute_result"
    }
   ],
   "source": [
    "a=5\n",
    "b=8\n",
    "c=a%b\n",
    "c"
   ]
  },
  {
   "cell_type": "code",
   "execution_count": null,
   "id": "2dffff1e-6499-40e1-8f6d-ec26bd4fda80",
   "metadata": {},
   "outputs": [],
   "source": [
    "### a%b returns remainder if (a>b) else a"
   ]
  },
  {
   "cell_type": "code",
   "execution_count": 207,
   "id": "c852813e-7caf-4ff8-be72-ca50036593b8",
   "metadata": {},
   "outputs": [
    {
     "data": {
      "text/plain": [
       "3"
      ]
     },
     "execution_count": 207,
     "metadata": {},
     "output_type": "execute_result"
    }
   ],
   "source": [
    "a=9\n",
    "b=3\n",
    "c=a//b\n",
    "c"
   ]
  },
  {
   "cell_type": "code",
   "execution_count": 210,
   "id": "fc67f2e7-3c6d-4f25-9bfe-39be7fac89a4",
   "metadata": {},
   "outputs": [
    {
     "data": {
      "text/plain": [
       "0"
      ]
     },
     "execution_count": 210,
     "metadata": {},
     "output_type": "execute_result"
    }
   ],
   "source": [
    "a=7\n",
    "b=8\n",
    "c=a//b\n",
    "c"
   ]
  },
  {
   "cell_type": "markdown",
   "id": "f8f585fb-6c3f-43ee-8435-594aeef998a9",
   "metadata": {},
   "source": [
    "##### a//b returns quotient if a>b else 0"
   ]
  },
  {
   "cell_type": "markdown",
   "id": "299b9fa7-1007-4f5e-8893-c8af099f1020",
   "metadata": {},
   "source": [
    "### Comparison Operators"
   ]
  },
  {
   "cell_type": "code",
   "execution_count": 215,
   "id": "1b6d9e7c-4671-4431-9b06-a5dfeffb1c5c",
   "metadata": {},
   "outputs": [
    {
     "data": {
      "text/plain": [
       "True"
      ]
     },
     "execution_count": 215,
     "metadata": {},
     "output_type": "execute_result"
    }
   ],
   "source": [
    "x=10\n",
    "y=5\n",
    "x>y"
   ]
  },
  {
   "cell_type": "code",
   "execution_count": 216,
   "id": "b7edeb6f-f67b-4fc3-bc92-d2dfff648e57",
   "metadata": {},
   "outputs": [
    {
     "data": {
      "text/plain": [
       "False"
      ]
     },
     "execution_count": 216,
     "metadata": {},
     "output_type": "execute_result"
    }
   ],
   "source": [
    "x<y"
   ]
  },
  {
   "cell_type": "code",
   "execution_count": 217,
   "id": "7d26f4c2-1dc7-4237-a21e-5558d399b15e",
   "metadata": {},
   "outputs": [
    {
     "data": {
      "text/plain": [
       "False"
      ]
     },
     "execution_count": 217,
     "metadata": {},
     "output_type": "execute_result"
    }
   ],
   "source": [
    "x==y"
   ]
  },
  {
   "cell_type": "code",
   "execution_count": 218,
   "id": "21083ae7-089a-4ae9-a4fd-4a0a53b4356d",
   "metadata": {},
   "outputs": [
    {
     "data": {
      "text/plain": [
       "True"
      ]
     },
     "execution_count": 218,
     "metadata": {},
     "output_type": "execute_result"
    }
   ],
   "source": [
    "x!=y"
   ]
  },
  {
   "cell_type": "code",
   "execution_count": 219,
   "id": "4e9c854c-fe53-4837-83d9-3fe20ac01345",
   "metadata": {},
   "outputs": [
    {
     "data": {
      "text/plain": [
       "True"
      ]
     },
     "execution_count": 219,
     "metadata": {},
     "output_type": "execute_result"
    }
   ],
   "source": [
    "x>=y"
   ]
  },
  {
   "cell_type": "code",
   "execution_count": 220,
   "id": "350a174a-c680-44ca-831e-d7c298bace61",
   "metadata": {},
   "outputs": [
    {
     "data": {
      "text/plain": [
       "False"
      ]
     },
     "execution_count": 220,
     "metadata": {},
     "output_type": "execute_result"
    }
   ],
   "source": [
    "x<=y"
   ]
  },
  {
   "cell_type": "markdown",
   "id": "23a21993-6786-4054-af84-5a0818e7a91c",
   "metadata": {},
   "source": [
    "### Logical Operators"
   ]
  },
  {
   "cell_type": "code",
   "execution_count": 229,
   "id": "b9400ed5-8a8c-4bf6-8ca8-acdff2a4463f",
   "metadata": {},
   "outputs": [],
   "source": [
    "x=True\n",
    "y=False"
   ]
  },
  {
   "cell_type": "code",
   "execution_count": 230,
   "id": "3efc6605-80f1-4f11-8702-0a2e6dfbe857",
   "metadata": {},
   "outputs": [
    {
     "data": {
      "text/plain": [
       "False"
      ]
     },
     "execution_count": 230,
     "metadata": {},
     "output_type": "execute_result"
    }
   ],
   "source": [
    "x and y"
   ]
  },
  {
   "cell_type": "code",
   "execution_count": 231,
   "id": "29596bc5-1cfa-44fc-98e4-3835a70850a6",
   "metadata": {},
   "outputs": [
    {
     "data": {
      "text/plain": [
       "True"
      ]
     },
     "execution_count": 231,
     "metadata": {},
     "output_type": "execute_result"
    }
   ],
   "source": [
    "x or y"
   ]
  },
  {
   "cell_type": "code",
   "execution_count": 232,
   "id": "e6943d4d-de82-48ec-85e1-6494b602d58e",
   "metadata": {},
   "outputs": [
    {
     "data": {
      "text/plain": [
       "False"
      ]
     },
     "execution_count": 232,
     "metadata": {},
     "output_type": "execute_result"
    }
   ],
   "source": [
    "not(x)"
   ]
  },
  {
   "cell_type": "code",
   "execution_count": 233,
   "id": "f145ab9b-e4d4-4341-b4d0-ed1391baae73",
   "metadata": {},
   "outputs": [
    {
     "data": {
      "text/plain": [
       "True"
      ]
     },
     "execution_count": 233,
     "metadata": {},
     "output_type": "execute_result"
    }
   ],
   "source": [
    "not(y)"
   ]
  },
  {
   "cell_type": "markdown",
   "id": "4176679a-48c0-4174-8f26-94d183e92e49",
   "metadata": {},
   "source": [
    "### Assignment Operators"
   ]
  },
  {
   "cell_type": "code",
   "execution_count": 235,
   "id": "b2f415ce-a27b-4d0a-b18e-1f6b1d10c401",
   "metadata": {},
   "outputs": [
    {
     "data": {
      "text/plain": [
       "30"
      ]
     },
     "execution_count": 235,
     "metadata": {},
     "output_type": "execute_result"
    }
   ],
   "source": [
    "x=10\n",
    "x=x+20\n",
    "x"
   ]
  },
  {
   "cell_type": "code",
   "execution_count": 236,
   "id": "6b7aca29-927f-4126-9844-adf634f6b49d",
   "metadata": {},
   "outputs": [],
   "source": [
    "x=10\n",
    "x+=20"
   ]
  },
  {
   "cell_type": "code",
   "execution_count": 237,
   "id": "45c1826e-d80b-47c5-b7b4-278fce85061e",
   "metadata": {},
   "outputs": [
    {
     "data": {
      "text/plain": [
       "30"
      ]
     },
     "execution_count": 237,
     "metadata": {},
     "output_type": "execute_result"
    }
   ],
   "source": [
    "x"
   ]
  },
  {
   "cell_type": "code",
   "execution_count": 238,
   "id": "ecf69265-54dc-40b2-96b8-56373b4efeff",
   "metadata": {},
   "outputs": [],
   "source": [
    "x-=20"
   ]
  },
  {
   "cell_type": "code",
   "execution_count": 239,
   "id": "1c29f908-c345-47e0-8d1a-f46c0387b0b4",
   "metadata": {},
   "outputs": [
    {
     "data": {
      "text/plain": [
       "10"
      ]
     },
     "execution_count": 239,
     "metadata": {},
     "output_type": "execute_result"
    }
   ],
   "source": [
    "x"
   ]
  },
  {
   "cell_type": "code",
   "execution_count": null,
   "id": "c3805c6c-74d1-45b2-b1aa-6103d774e185",
   "metadata": {},
   "outputs": [],
   "source": []
  }
 ],
 "metadata": {
  "kernelspec": {
   "display_name": "Python 3 (ipykernel)",
   "language": "python",
   "name": "python3"
  },
  "language_info": {
   "codemirror_mode": {
    "name": "ipython",
    "version": 3
   },
   "file_extension": ".py",
   "mimetype": "text/x-python",
   "name": "python",
   "nbconvert_exporter": "python",
   "pygments_lexer": "ipython3",
   "version": "3.11.7"
  },
  "widgets": {
   "application/vnd.jupyter.widget-state+json": {
    "state": {},
    "version_major": 2,
    "version_minor": 0
   }
  }
 },
 "nbformat": 4,
 "nbformat_minor": 5
}
